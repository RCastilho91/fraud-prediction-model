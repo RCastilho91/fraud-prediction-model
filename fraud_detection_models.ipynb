{
 "cells": [
  {
   "cell_type": "markdown",
   "metadata": {},
   "source": [
    "# Fraud Detection Models\n",
    "\n",
    "This notebook aims to create a prediction of fraudulent purchasing in an e-commerce through both supervised and unsupervised machine learning modeling using data composed of devices and IP addresses, along with demographics used in both fraudulent and legitimate purchases."
   ]
  },
  {
   "cell_type": "markdown",
   "metadata": {},
   "source": [
    "***\n",
    "\n",
    "## 1. Data Cleaning"
   ]
  },
  {
   "cell_type": "code",
   "execution_count": 1,
   "metadata": {
    "ExecuteTime": {
     "end_time": "2020-08-18T18:01:38.661631Z",
     "start_time": "2020-08-18T18:01:32.064272Z"
    }
   },
   "outputs": [],
   "source": [
    "# importing necessary libraries and modules\n",
    "\n",
    "import numpy as np\n",
    "import pandas as pd\n",
    "import itertools\n",
    "\n",
    "from scipy import special\n",
    "from datetime import timedelta\n",
    "from IPython.display import display"
   ]
  },
  {
   "cell_type": "code",
   "execution_count": 2,
   "metadata": {
    "ExecuteTime": {
     "end_time": "2020-08-18T18:01:39.116413Z",
     "start_time": "2020-08-18T18:01:38.662625Z"
    }
   },
   "outputs": [],
   "source": [
    "# reading necessary data\n",
    "fraud_df = pd.read_csv('Fraud_Data.csv',header=0)\n",
    "ISP_df = pd.read_csv('IpAddress_to_Country.csv',header=0)"
   ]
  },
  {
   "cell_type": "code",
   "execution_count": 3,
   "metadata": {
    "ExecuteTime": {
     "end_time": "2020-08-18T18:01:39.169270Z",
     "start_time": "2020-08-18T18:01:39.117408Z"
    }
   },
   "outputs": [
    {
     "data": {
      "text/plain": [
       "id                  int64\n",
       "cadastro           object\n",
       "compra             object\n",
       "valor               int64\n",
       "id_dispositivo     object\n",
       "fonte              object\n",
       "browser            object\n",
       "genero             object\n",
       "idade               int64\n",
       "ip                float64\n",
       "fraude              int64\n",
       "dtype: object"
      ]
     },
     "execution_count": 3,
     "metadata": {},
     "output_type": "execute_result"
    }
   ],
   "source": [
    "# checking out the data types for the fraud dataset\n",
    "fraud_df.dtypes"
   ]
  },
  {
   "cell_type": "code",
   "execution_count": 4,
   "metadata": {
    "ExecuteTime": {
     "end_time": "2020-08-18T18:01:39.210160Z",
     "start_time": "2020-08-18T18:01:39.170268Z"
    }
   },
   "outputs": [
    {
     "name": "stdout",
     "output_type": "stream",
     "text": [
      "Null values in id: 0\n",
      "Null values in cadastro: 0\n",
      "Null values in compra: 0\n",
      "Null values in valor: 0\n",
      "Null values in id_dispositivo: 0\n",
      "Null values in fonte: 0\n",
      "Null values in browser: 0\n",
      "Null values in genero: 0\n",
      "Null values in idade: 0\n",
      "Null values in ip: 0\n",
      "Null values in fraude: 0\n"
     ]
    }
   ],
   "source": [
    "# checking for null values for the fraud dataset\n",
    "for col in fraud_df.columns:\n",
    "    print('Null values in {}: {}'.format(col, fraud_df[col].isnull().sum()))"
   ]
  },
  {
   "cell_type": "code",
   "execution_count": 5,
   "metadata": {
    "ExecuteTime": {
     "end_time": "2020-08-18T18:01:39.312886Z",
     "start_time": "2020-08-18T18:01:39.211158Z"
    }
   },
   "outputs": [
    {
     "data": {
      "text/html": [
       "<div>\n",
       "<style scoped>\n",
       "    .dataframe tbody tr th:only-of-type {\n",
       "        vertical-align: middle;\n",
       "    }\n",
       "\n",
       "    .dataframe tbody tr th {\n",
       "        vertical-align: top;\n",
       "    }\n",
       "\n",
       "    .dataframe thead th {\n",
       "        text-align: right;\n",
       "    }\n",
       "</style>\n",
       "<table border=\"1\" class=\"dataframe\">\n",
       "  <thead>\n",
       "    <tr style=\"text-align: right;\">\n",
       "      <th></th>\n",
       "      <th>id</th>\n",
       "      <th>valor</th>\n",
       "      <th>idade</th>\n",
       "      <th>ip</th>\n",
       "      <th>fraude</th>\n",
       "    </tr>\n",
       "  </thead>\n",
       "  <tbody>\n",
       "    <tr>\n",
       "      <th>count</th>\n",
       "      <td>151112.000000</td>\n",
       "      <td>151112.000000</td>\n",
       "      <td>151112.000000</td>\n",
       "      <td>1.511120e+05</td>\n",
       "      <td>151112.000000</td>\n",
       "    </tr>\n",
       "    <tr>\n",
       "      <th>mean</th>\n",
       "      <td>200171.040970</td>\n",
       "      <td>36.935372</td>\n",
       "      <td>33.140704</td>\n",
       "      <td>2.152145e+09</td>\n",
       "      <td>0.093646</td>\n",
       "    </tr>\n",
       "    <tr>\n",
       "      <th>std</th>\n",
       "      <td>115369.285024</td>\n",
       "      <td>18.322762</td>\n",
       "      <td>8.617733</td>\n",
       "      <td>1.248497e+09</td>\n",
       "      <td>0.291336</td>\n",
       "    </tr>\n",
       "    <tr>\n",
       "      <th>min</th>\n",
       "      <td>2.000000</td>\n",
       "      <td>9.000000</td>\n",
       "      <td>18.000000</td>\n",
       "      <td>5.209350e+04</td>\n",
       "      <td>0.000000</td>\n",
       "    </tr>\n",
       "    <tr>\n",
       "      <th>25%</th>\n",
       "      <td>100642.500000</td>\n",
       "      <td>22.000000</td>\n",
       "      <td>27.000000</td>\n",
       "      <td>1.085934e+09</td>\n",
       "      <td>0.000000</td>\n",
       "    </tr>\n",
       "    <tr>\n",
       "      <th>50%</th>\n",
       "      <td>199958.000000</td>\n",
       "      <td>35.000000</td>\n",
       "      <td>33.000000</td>\n",
       "      <td>2.154770e+09</td>\n",
       "      <td>0.000000</td>\n",
       "    </tr>\n",
       "    <tr>\n",
       "      <th>75%</th>\n",
       "      <td>300054.000000</td>\n",
       "      <td>49.000000</td>\n",
       "      <td>39.000000</td>\n",
       "      <td>3.243258e+09</td>\n",
       "      <td>0.000000</td>\n",
       "    </tr>\n",
       "    <tr>\n",
       "      <th>max</th>\n",
       "      <td>400000.000000</td>\n",
       "      <td>154.000000</td>\n",
       "      <td>76.000000</td>\n",
       "      <td>4.294850e+09</td>\n",
       "      <td>1.000000</td>\n",
       "    </tr>\n",
       "  </tbody>\n",
       "</table>\n",
       "</div>"
      ],
      "text/plain": [
       "                  id          valor          idade            ip  \\\n",
       "count  151112.000000  151112.000000  151112.000000  1.511120e+05   \n",
       "mean   200171.040970      36.935372      33.140704  2.152145e+09   \n",
       "std    115369.285024      18.322762       8.617733  1.248497e+09   \n",
       "min         2.000000       9.000000      18.000000  5.209350e+04   \n",
       "25%    100642.500000      22.000000      27.000000  1.085934e+09   \n",
       "50%    199958.000000      35.000000      33.000000  2.154770e+09   \n",
       "75%    300054.000000      49.000000      39.000000  3.243258e+09   \n",
       "max    400000.000000     154.000000      76.000000  4.294850e+09   \n",
       "\n",
       "              fraude  \n",
       "count  151112.000000  \n",
       "mean        0.093646  \n",
       "std         0.291336  \n",
       "min         0.000000  \n",
       "25%         0.000000  \n",
       "50%         0.000000  \n",
       "75%         0.000000  \n",
       "max         1.000000  "
      ]
     },
     "execution_count": 5,
     "metadata": {},
     "output_type": "execute_result"
    }
   ],
   "source": [
    "# describing the fraud dataset for the fraud dataset\n",
    "fraud_df.describe()"
   ]
  },
  {
   "cell_type": "code",
   "execution_count": 6,
   "metadata": {
    "ExecuteTime": {
     "end_time": "2020-08-18T18:01:39.318869Z",
     "start_time": "2020-08-18T18:01:39.314881Z"
    }
   },
   "outputs": [
    {
     "data": {
      "text/plain": [
       "limite_inferior_ip    float64\n",
       "limite_superior_ip      int64\n",
       "pais                   object\n",
       "dtype: object"
      ]
     },
     "execution_count": 6,
     "metadata": {},
     "output_type": "execute_result"
    }
   ],
   "source": [
    "# checking out the data types for the IP dataset\n",
    "ISP_df.dtypes"
   ]
  },
  {
   "cell_type": "code",
   "execution_count": 7,
   "metadata": {
    "ExecuteTime": {
     "end_time": "2020-08-18T18:01:39.326848Z",
     "start_time": "2020-08-18T18:01:39.320864Z"
    }
   },
   "outputs": [
    {
     "data": {
      "text/html": [
       "<div>\n",
       "<style scoped>\n",
       "    .dataframe tbody tr th:only-of-type {\n",
       "        vertical-align: middle;\n",
       "    }\n",
       "\n",
       "    .dataframe tbody tr th {\n",
       "        vertical-align: top;\n",
       "    }\n",
       "\n",
       "    .dataframe thead th {\n",
       "        text-align: right;\n",
       "    }\n",
       "</style>\n",
       "<table border=\"1\" class=\"dataframe\">\n",
       "  <thead>\n",
       "    <tr style=\"text-align: right;\">\n",
       "      <th></th>\n",
       "      <th>limite_inferior_ip</th>\n",
       "      <th>limite_superior_ip</th>\n",
       "      <th>pais</th>\n",
       "    </tr>\n",
       "  </thead>\n",
       "  <tbody>\n",
       "    <tr>\n",
       "      <th>0</th>\n",
       "      <td>16777216.0</td>\n",
       "      <td>16777471</td>\n",
       "      <td>Australia</td>\n",
       "    </tr>\n",
       "    <tr>\n",
       "      <th>1</th>\n",
       "      <td>16777472.0</td>\n",
       "      <td>16777727</td>\n",
       "      <td>China</td>\n",
       "    </tr>\n",
       "    <tr>\n",
       "      <th>2</th>\n",
       "      <td>16777728.0</td>\n",
       "      <td>16778239</td>\n",
       "      <td>China</td>\n",
       "    </tr>\n",
       "    <tr>\n",
       "      <th>3</th>\n",
       "      <td>16778240.0</td>\n",
       "      <td>16779263</td>\n",
       "      <td>Australia</td>\n",
       "    </tr>\n",
       "    <tr>\n",
       "      <th>4</th>\n",
       "      <td>16779264.0</td>\n",
       "      <td>16781311</td>\n",
       "      <td>China</td>\n",
       "    </tr>\n",
       "  </tbody>\n",
       "</table>\n",
       "</div>"
      ],
      "text/plain": [
       "   limite_inferior_ip  limite_superior_ip       pais\n",
       "0          16777216.0            16777471  Australia\n",
       "1          16777472.0            16777727      China\n",
       "2          16777728.0            16778239      China\n",
       "3          16778240.0            16779263  Australia\n",
       "4          16779264.0            16781311      China"
      ]
     },
     "execution_count": 7,
     "metadata": {},
     "output_type": "execute_result"
    }
   ],
   "source": [
    "ISP_df.head()"
   ]
  },
  {
   "cell_type": "code",
   "execution_count": 8,
   "metadata": {
    "ExecuteTime": {
     "end_time": "2020-08-18T18:01:39.362753Z",
     "start_time": "2020-08-18T18:01:39.327845Z"
    },
    "scrolled": true
   },
   "outputs": [
    {
     "name": "stdout",
     "output_type": "stream",
     "text": [
      "Non-zero decimals in lower IP limits: 0\n"
     ]
    }
   ],
   "source": [
    "# upper and lower IP limits are in different data types.\n",
    "# checking whether that was merely a dot by the end.\n",
    "\n",
    "ip_floats = ISP_df.limite_inferior_ip.apply(lambda x: not x.is_integer()).sum()\n",
    "print('Non-zero decimals in lower IP limits: {}'.format(ip_floats))"
   ]
  },
  {
   "cell_type": "code",
   "execution_count": 9,
   "metadata": {
    "ExecuteTime": {
     "end_time": "2020-08-18T18:01:39.371728Z",
     "start_time": "2020-08-18T18:01:39.363750Z"
    }
   },
   "outputs": [
    {
     "data": {
      "text/plain": [
       "limite_inferior_ip    float64\n",
       "limite_superior_ip    float64\n",
       "pais                   object\n",
       "dtype: object"
      ]
     },
     "execution_count": 9,
     "metadata": {},
     "output_type": "execute_result"
    }
   ],
   "source": [
    "# turning upper IP limit to a float64 so there'll be no errors in comparing the two datasets\n",
    "ISP_df.limite_superior_ip = ISP_df.limite_superior_ip.astype(np.float64)\n",
    "ISP_df.dtypes"
   ]
  },
  {
   "cell_type": "code",
   "execution_count": 10,
   "metadata": {
    "ExecuteTime": {
     "end_time": "2020-08-18T18:01:39.382699Z",
     "start_time": "2020-08-18T18:01:39.372726Z"
    },
    "scrolled": true
   },
   "outputs": [
    {
     "name": "stdout",
     "output_type": "stream",
     "text": [
      "Null values in limite_inferior_ip: 0\n",
      "Null values in limite_superior_ip: 0\n",
      "Null values in pais: 0\n"
     ]
    }
   ],
   "source": [
    "# checking for null values for the IP dataset\n",
    "for col in ISP_df.columns:\n",
    "    print('Null values in {}: {}'.format(col, ISP_df[col].isnull().sum()))"
   ]
  },
  {
   "cell_type": "code",
   "execution_count": 11,
   "metadata": {
    "ExecuteTime": {
     "end_time": "2020-08-18T18:01:39.404640Z",
     "start_time": "2020-08-18T18:01:39.383696Z"
    },
    "scrolled": true
   },
   "outputs": [
    {
     "data": {
      "text/html": [
       "<div>\n",
       "<style scoped>\n",
       "    .dataframe tbody tr th:only-of-type {\n",
       "        vertical-align: middle;\n",
       "    }\n",
       "\n",
       "    .dataframe tbody tr th {\n",
       "        vertical-align: top;\n",
       "    }\n",
       "\n",
       "    .dataframe thead th {\n",
       "        text-align: right;\n",
       "    }\n",
       "</style>\n",
       "<table border=\"1\" class=\"dataframe\">\n",
       "  <thead>\n",
       "    <tr style=\"text-align: right;\">\n",
       "      <th></th>\n",
       "      <th>limite_inferior_ip</th>\n",
       "      <th>limite_superior_ip</th>\n",
       "    </tr>\n",
       "  </thead>\n",
       "  <tbody>\n",
       "    <tr>\n",
       "      <th>count</th>\n",
       "      <td>1.388460e+05</td>\n",
       "      <td>1.388460e+05</td>\n",
       "    </tr>\n",
       "    <tr>\n",
       "      <th>mean</th>\n",
       "      <td>2.724532e+09</td>\n",
       "      <td>2.724557e+09</td>\n",
       "    </tr>\n",
       "    <tr>\n",
       "      <th>std</th>\n",
       "      <td>8.975215e+08</td>\n",
       "      <td>8.974979e+08</td>\n",
       "    </tr>\n",
       "    <tr>\n",
       "      <th>min</th>\n",
       "      <td>1.677722e+07</td>\n",
       "      <td>1.677747e+07</td>\n",
       "    </tr>\n",
       "    <tr>\n",
       "      <th>25%</th>\n",
       "      <td>1.919930e+09</td>\n",
       "      <td>1.920008e+09</td>\n",
       "    </tr>\n",
       "    <tr>\n",
       "      <th>50%</th>\n",
       "      <td>3.230887e+09</td>\n",
       "      <td>3.230888e+09</td>\n",
       "    </tr>\n",
       "    <tr>\n",
       "      <th>75%</th>\n",
       "      <td>3.350465e+09</td>\n",
       "      <td>3.350466e+09</td>\n",
       "    </tr>\n",
       "    <tr>\n",
       "      <th>max</th>\n",
       "      <td>3.758096e+09</td>\n",
       "      <td>3.758096e+09</td>\n",
       "    </tr>\n",
       "  </tbody>\n",
       "</table>\n",
       "</div>"
      ],
      "text/plain": [
       "       limite_inferior_ip  limite_superior_ip\n",
       "count        1.388460e+05        1.388460e+05\n",
       "mean         2.724532e+09        2.724557e+09\n",
       "std          8.975215e+08        8.974979e+08\n",
       "min          1.677722e+07        1.677747e+07\n",
       "25%          1.919930e+09        1.920008e+09\n",
       "50%          3.230887e+09        3.230888e+09\n",
       "75%          3.350465e+09        3.350466e+09\n",
       "max          3.758096e+09        3.758096e+09"
      ]
     },
     "execution_count": 11,
     "metadata": {},
     "output_type": "execute_result"
    }
   ],
   "source": [
    "# describing the fraud dataset for the IP dataset\n",
    "ISP_df.describe()"
   ]
  },
  {
   "cell_type": "code",
   "execution_count": 12,
   "metadata": {
    "ExecuteTime": {
     "end_time": "2020-08-18T18:01:39.420599Z",
     "start_time": "2020-08-18T18:01:39.405637Z"
    }
   },
   "outputs": [
    {
     "data": {
      "text/html": [
       "<div>\n",
       "<style scoped>\n",
       "    .dataframe tbody tr th:only-of-type {\n",
       "        vertical-align: middle;\n",
       "    }\n",
       "\n",
       "    .dataframe tbody tr th {\n",
       "        vertical-align: top;\n",
       "    }\n",
       "\n",
       "    .dataframe thead th {\n",
       "        text-align: right;\n",
       "    }\n",
       "</style>\n",
       "<table border=\"1\" class=\"dataframe\">\n",
       "  <thead>\n",
       "    <tr style=\"text-align: right;\">\n",
       "      <th></th>\n",
       "      <th>limite_inferior_ip</th>\n",
       "      <th>limite_superior_ip</th>\n",
       "      <th>pais</th>\n",
       "    </tr>\n",
       "  </thead>\n",
       "  <tbody>\n",
       "    <tr>\n",
       "      <th>138845</th>\n",
       "      <td>3.758096e+09</td>\n",
       "      <td>3.758096e+09</td>\n",
       "      <td>Australia</td>\n",
       "    </tr>\n",
       "  </tbody>\n",
       "</table>\n",
       "</div>"
      ],
      "text/plain": [
       "        limite_inferior_ip  limite_superior_ip       pais\n",
       "138845        3.758096e+09        3.758096e+09  Australia"
      ]
     },
     "metadata": {},
     "output_type": "display_data"
    },
    {
     "data": {
      "text/html": [
       "<div>\n",
       "<style scoped>\n",
       "    .dataframe tbody tr th:only-of-type {\n",
       "        vertical-align: middle;\n",
       "    }\n",
       "\n",
       "    .dataframe tbody tr th {\n",
       "        vertical-align: top;\n",
       "    }\n",
       "\n",
       "    .dataframe thead th {\n",
       "        text-align: right;\n",
       "    }\n",
       "</style>\n",
       "<table border=\"1\" class=\"dataframe\">\n",
       "  <thead>\n",
       "    <tr style=\"text-align: right;\">\n",
       "      <th></th>\n",
       "      <th>limite_inferior_ip</th>\n",
       "      <th>limite_superior_ip</th>\n",
       "      <th>pais</th>\n",
       "    </tr>\n",
       "  </thead>\n",
       "  <tbody>\n",
       "    <tr>\n",
       "      <th>138845</th>\n",
       "      <td>3.758096e+09</td>\n",
       "      <td>3.758096e+09</td>\n",
       "      <td>Australia</td>\n",
       "    </tr>\n",
       "  </tbody>\n",
       "</table>\n",
       "</div>"
      ],
      "text/plain": [
       "        limite_inferior_ip  limite_superior_ip       pais\n",
       "138845        3.758096e+09        3.758096e+09  Australia"
      ]
     },
     "metadata": {},
     "output_type": "display_data"
    }
   ],
   "source": [
    "# strange value at 75% percentile for the lower limit,\n",
    "# checking whether it is merely a display issue\n",
    "\n",
    "display(ISP_df[ISP_df.limite_inferior_ip == ISP_df.limite_inferior_ip.max()])\n",
    "display(ISP_df[ISP_df.limite_superior_ip == ISP_df.limite_superior_ip.max()])"
   ]
  },
  {
   "cell_type": "code",
   "execution_count": 13,
   "metadata": {
    "ExecuteTime": {
     "end_time": "2020-08-18T18:03:28.562704Z",
     "start_time": "2020-08-18T18:01:39.421595Z"
    }
   },
   "outputs": [
    {
     "data": {
      "text/html": [
       "<div>\n",
       "<style scoped>\n",
       "    .dataframe tbody tr th:only-of-type {\n",
       "        vertical-align: middle;\n",
       "    }\n",
       "\n",
       "    .dataframe tbody tr th {\n",
       "        vertical-align: top;\n",
       "    }\n",
       "\n",
       "    .dataframe thead th {\n",
       "        text-align: right;\n",
       "    }\n",
       "</style>\n",
       "<table border=\"1\" class=\"dataframe\">\n",
       "  <thead>\n",
       "    <tr style=\"text-align: right;\">\n",
       "      <th></th>\n",
       "      <th>id</th>\n",
       "      <th>cadastro</th>\n",
       "      <th>compra</th>\n",
       "      <th>valor</th>\n",
       "      <th>id_dispositivo</th>\n",
       "      <th>fonte</th>\n",
       "      <th>browser</th>\n",
       "      <th>genero</th>\n",
       "      <th>idade</th>\n",
       "      <th>ip</th>\n",
       "      <th>fraude</th>\n",
       "      <th>pais</th>\n",
       "    </tr>\n",
       "  </thead>\n",
       "  <tbody>\n",
       "    <tr>\n",
       "      <th>0</th>\n",
       "      <td>22058</td>\n",
       "      <td>2015-02-24 22:55:49</td>\n",
       "      <td>2015-04-18 02:47:11</td>\n",
       "      <td>34</td>\n",
       "      <td>QVPSPJUOCKZAR</td>\n",
       "      <td>SEO</td>\n",
       "      <td>Chrome</td>\n",
       "      <td>M</td>\n",
       "      <td>39</td>\n",
       "      <td>7.327584e+08</td>\n",
       "      <td>0</td>\n",
       "      <td>Japan</td>\n",
       "    </tr>\n",
       "    <tr>\n",
       "      <th>1</th>\n",
       "      <td>333320</td>\n",
       "      <td>2015-06-07 20:39:50</td>\n",
       "      <td>2015-06-08 01:38:54</td>\n",
       "      <td>16</td>\n",
       "      <td>EOGFQPIZPYXFZ</td>\n",
       "      <td>Ads</td>\n",
       "      <td>Chrome</td>\n",
       "      <td>F</td>\n",
       "      <td>53</td>\n",
       "      <td>3.503114e+08</td>\n",
       "      <td>0</td>\n",
       "      <td>United States</td>\n",
       "    </tr>\n",
       "    <tr>\n",
       "      <th>2</th>\n",
       "      <td>1359</td>\n",
       "      <td>2015-01-01 18:52:44</td>\n",
       "      <td>2015-01-01 18:52:45</td>\n",
       "      <td>15</td>\n",
       "      <td>YSSKYOSJHPPLJ</td>\n",
       "      <td>SEO</td>\n",
       "      <td>Opera</td>\n",
       "      <td>M</td>\n",
       "      <td>53</td>\n",
       "      <td>2.621474e+09</td>\n",
       "      <td>1</td>\n",
       "      <td>United States</td>\n",
       "    </tr>\n",
       "    <tr>\n",
       "      <th>3</th>\n",
       "      <td>150084</td>\n",
       "      <td>2015-04-28 21:13:25</td>\n",
       "      <td>2015-05-04 13:54:50</td>\n",
       "      <td>44</td>\n",
       "      <td>ATGTXKYKUDUQN</td>\n",
       "      <td>SEO</td>\n",
       "      <td>Safari</td>\n",
       "      <td>M</td>\n",
       "      <td>41</td>\n",
       "      <td>3.840542e+09</td>\n",
       "      <td>0</td>\n",
       "      <td>None</td>\n",
       "    </tr>\n",
       "    <tr>\n",
       "      <th>4</th>\n",
       "      <td>221365</td>\n",
       "      <td>2015-07-21 07:09:52</td>\n",
       "      <td>2015-09-09 18:40:53</td>\n",
       "      <td>39</td>\n",
       "      <td>NAUITBZFJKHWW</td>\n",
       "      <td>Ads</td>\n",
       "      <td>Safari</td>\n",
       "      <td>M</td>\n",
       "      <td>45</td>\n",
       "      <td>4.155831e+08</td>\n",
       "      <td>0</td>\n",
       "      <td>United States</td>\n",
       "    </tr>\n",
       "  </tbody>\n",
       "</table>\n",
       "</div>"
      ],
      "text/plain": [
       "       id             cadastro               compra  valor id_dispositivo  \\\n",
       "0   22058  2015-02-24 22:55:49  2015-04-18 02:47:11     34  QVPSPJUOCKZAR   \n",
       "1  333320  2015-06-07 20:39:50  2015-06-08 01:38:54     16  EOGFQPIZPYXFZ   \n",
       "2    1359  2015-01-01 18:52:44  2015-01-01 18:52:45     15  YSSKYOSJHPPLJ   \n",
       "3  150084  2015-04-28 21:13:25  2015-05-04 13:54:50     44  ATGTXKYKUDUQN   \n",
       "4  221365  2015-07-21 07:09:52  2015-09-09 18:40:53     39  NAUITBZFJKHWW   \n",
       "\n",
       "  fonte browser genero  idade            ip  fraude           pais  \n",
       "0   SEO  Chrome      M     39  7.327584e+08       0          Japan  \n",
       "1   Ads  Chrome      F     53  3.503114e+08       0  United States  \n",
       "2   SEO   Opera      M     53  2.621474e+09       1  United States  \n",
       "3   SEO  Safari      M     41  3.840542e+09       0           None  \n",
       "4   Ads  Safari      M     45  4.155831e+08       0  United States  "
      ]
     },
     "execution_count": 13,
     "metadata": {},
     "output_type": "execute_result"
    }
   ],
   "source": [
    "# defining which country an IP belongs to\n",
    "def ip_to_country(ip):\n",
    "    tmp = ISP_df[(ISP_df.limite_inferior_ip <= ip)\n",
    "            & (ISP_df.limite_superior_ip >= ip)].pais\n",
    "    if tmp.shape[0] == 1:\n",
    "        return tmp.iloc[0]\n",
    "\n",
    "fraud_df[\"pais\"] = fraud_df.ip.apply(ip_to_country)\n",
    "fraud_df.head()"
   ]
  },
  {
   "cell_type": "code",
   "execution_count": 14,
   "metadata": {
    "ExecuteTime": {
     "end_time": "2020-08-18T18:03:29.262836Z",
     "start_time": "2020-08-18T18:03:28.563702Z"
    }
   },
   "outputs": [],
   "source": [
    "fraud_df.to_csv(\"fraud_data_country.csv\", index=False)"
   ]
  },
  {
   "cell_type": "markdown",
   "metadata": {},
   "source": [
    "***\n",
    "\n",
    "## 2. Exploratory Data Analysis"
   ]
  },
  {
   "cell_type": "code",
   "execution_count": 15,
   "metadata": {
    "ExecuteTime": {
     "end_time": "2020-08-18T18:03:33.388797Z",
     "start_time": "2020-08-18T18:03:29.263829Z"
    }
   },
   "outputs": [
    {
     "name": "stderr",
     "output_type": "stream",
     "text": [
      "D:\\Anaconda\\lib\\site-packages\\statsmodels\\tools\\_testing.py:19: FutureWarning: pandas.util.testing is deprecated. Use the functions in the public API at pandas.testing instead.\n",
      "  import pandas.util.testing as tm\n"
     ]
    }
   ],
   "source": [
    "# importing necessary libraries\n",
    "\n",
    "import matplotlib.pyplot as plt\n",
    "import seaborn as sns\n",
    "%matplotlib inline"
   ]
  },
  {
   "cell_type": "code",
   "execution_count": 16,
   "metadata": {
    "ExecuteTime": {
     "end_time": "2020-08-18T18:03:33.698968Z",
     "start_time": "2020-08-18T18:03:33.389795Z"
    }
   },
   "outputs": [
    {
     "data": {
      "text/html": [
       "<div>\n",
       "<style scoped>\n",
       "    .dataframe tbody tr th:only-of-type {\n",
       "        vertical-align: middle;\n",
       "    }\n",
       "\n",
       "    .dataframe tbody tr th {\n",
       "        vertical-align: top;\n",
       "    }\n",
       "\n",
       "    .dataframe thead th {\n",
       "        text-align: right;\n",
       "    }\n",
       "</style>\n",
       "<table border=\"1\" class=\"dataframe\">\n",
       "  <thead>\n",
       "    <tr style=\"text-align: right;\">\n",
       "      <th></th>\n",
       "      <th>id</th>\n",
       "      <th>cadastro</th>\n",
       "      <th>compra</th>\n",
       "      <th>valor</th>\n",
       "      <th>id_dispositivo</th>\n",
       "      <th>fonte</th>\n",
       "      <th>browser</th>\n",
       "      <th>genero</th>\n",
       "      <th>idade</th>\n",
       "      <th>ip</th>\n",
       "      <th>fraude</th>\n",
       "      <th>pais</th>\n",
       "    </tr>\n",
       "  </thead>\n",
       "  <tbody>\n",
       "    <tr>\n",
       "      <th>0</th>\n",
       "      <td>22058</td>\n",
       "      <td>2015-02-24 22:55:49</td>\n",
       "      <td>2015-04-18 02:47:11</td>\n",
       "      <td>34</td>\n",
       "      <td>QVPSPJUOCKZAR</td>\n",
       "      <td>SEO</td>\n",
       "      <td>Chrome</td>\n",
       "      <td>M</td>\n",
       "      <td>39</td>\n",
       "      <td>7.327584e+08</td>\n",
       "      <td>0</td>\n",
       "      <td>Japan</td>\n",
       "    </tr>\n",
       "    <tr>\n",
       "      <th>1</th>\n",
       "      <td>333320</td>\n",
       "      <td>2015-06-07 20:39:50</td>\n",
       "      <td>2015-06-08 01:38:54</td>\n",
       "      <td>16</td>\n",
       "      <td>EOGFQPIZPYXFZ</td>\n",
       "      <td>Ads</td>\n",
       "      <td>Chrome</td>\n",
       "      <td>F</td>\n",
       "      <td>53</td>\n",
       "      <td>3.503114e+08</td>\n",
       "      <td>0</td>\n",
       "      <td>United States</td>\n",
       "    </tr>\n",
       "    <tr>\n",
       "      <th>2</th>\n",
       "      <td>1359</td>\n",
       "      <td>2015-01-01 18:52:44</td>\n",
       "      <td>2015-01-01 18:52:45</td>\n",
       "      <td>15</td>\n",
       "      <td>YSSKYOSJHPPLJ</td>\n",
       "      <td>SEO</td>\n",
       "      <td>Opera</td>\n",
       "      <td>M</td>\n",
       "      <td>53</td>\n",
       "      <td>2.621474e+09</td>\n",
       "      <td>1</td>\n",
       "      <td>United States</td>\n",
       "    </tr>\n",
       "    <tr>\n",
       "      <th>3</th>\n",
       "      <td>150084</td>\n",
       "      <td>2015-04-28 21:13:25</td>\n",
       "      <td>2015-05-04 13:54:50</td>\n",
       "      <td>44</td>\n",
       "      <td>ATGTXKYKUDUQN</td>\n",
       "      <td>SEO</td>\n",
       "      <td>Safari</td>\n",
       "      <td>M</td>\n",
       "      <td>41</td>\n",
       "      <td>3.840542e+09</td>\n",
       "      <td>0</td>\n",
       "      <td>NaN</td>\n",
       "    </tr>\n",
       "    <tr>\n",
       "      <th>4</th>\n",
       "      <td>221365</td>\n",
       "      <td>2015-07-21 07:09:52</td>\n",
       "      <td>2015-09-09 18:40:53</td>\n",
       "      <td>39</td>\n",
       "      <td>NAUITBZFJKHWW</td>\n",
       "      <td>Ads</td>\n",
       "      <td>Safari</td>\n",
       "      <td>M</td>\n",
       "      <td>45</td>\n",
       "      <td>4.155831e+08</td>\n",
       "      <td>0</td>\n",
       "      <td>United States</td>\n",
       "    </tr>\n",
       "  </tbody>\n",
       "</table>\n",
       "</div>"
      ],
      "text/plain": [
       "       id             cadastro               compra  valor id_dispositivo  \\\n",
       "0   22058  2015-02-24 22:55:49  2015-04-18 02:47:11     34  QVPSPJUOCKZAR   \n",
       "1  333320  2015-06-07 20:39:50  2015-06-08 01:38:54     16  EOGFQPIZPYXFZ   \n",
       "2    1359  2015-01-01 18:52:44  2015-01-01 18:52:45     15  YSSKYOSJHPPLJ   \n",
       "3  150084  2015-04-28 21:13:25  2015-05-04 13:54:50     44  ATGTXKYKUDUQN   \n",
       "4  221365  2015-07-21 07:09:52  2015-09-09 18:40:53     39  NAUITBZFJKHWW   \n",
       "\n",
       "  fonte browser genero  idade            ip  fraude           pais  \n",
       "0   SEO  Chrome      M     39  7.327584e+08       0          Japan  \n",
       "1   Ads  Chrome      F     53  3.503114e+08       0  United States  \n",
       "2   SEO   Opera      M     53  2.621474e+09       1  United States  \n",
       "3   SEO  Safari      M     41  3.840542e+09       0            NaN  \n",
       "4   Ads  Safari      M     45  4.155831e+08       0  United States  "
      ]
     },
     "execution_count": 16,
     "metadata": {},
     "output_type": "execute_result"
    }
   ],
   "source": [
    "# recreating the fraud dataset with country data\n",
    "\n",
    "fraud_df = pd.read_csv(\"fraud_data_country.csv\", header=0)\n",
    "fraud_df.head()"
   ]
  },
  {
   "cell_type": "code",
   "execution_count": 17,
   "metadata": {
    "ExecuteTime": {
     "end_time": "2020-08-18T18:03:34.534733Z",
     "start_time": "2020-08-18T18:03:33.699965Z"
    },
    "scrolled": true
   },
   "outputs": [
    {
     "data": {
      "text/plain": [
       "Text(0, 0.5, 'Fraud cases')"
      ]
     },
     "execution_count": 17,
     "metadata": {},
     "output_type": "execute_result"
    },
    {
     "data": {
      "image/png": "[encoded data removed]",
      "text/plain": [
       "<Figure size 432x288 with 1 Axes>"
      ]
     },
     "metadata": {
      "needs_background": "light"
     },
     "output_type": "display_data"
    }
   ],
   "source": [
    "# creating a visualization of number of fraud cases by gender\n",
    "\n",
    "sns.countplot(x=\"genero\", hue=\"fraude\", data=fraud_df)\n",
    "plt.xlabel(\"Gender\", fontsize=15)\n",
    "plt.ylabel(\"Fraud cases\", fontsize=15)"
   ]
  },
  {
   "cell_type": "code",
   "execution_count": 18,
   "metadata": {
    "ExecuteTime": {
     "end_time": "2020-08-18T18:03:38.516085Z",
     "start_time": "2020-08-18T18:03:34.535730Z"
    }
   },
   "outputs": [
    {
     "name": "stderr",
     "output_type": "stream",
     "text": [
      "D:\\Anaconda\\lib\\site-packages\\seaborn\\categorical.py:3666: UserWarning: The `factorplot` function has been renamed to `catplot`. The original name will be removed in a future release. Please update your code. Note that the default `kind` in `factorplot` (`'point'`) has changed `'strip'` in `catplot`.\n",
      "  warnings.warn(msg)\n"
     ]
    },
    {
     "data": {
      "text/plain": [
       "Text(0.42499999999999716, 0.5, 'Purchase value')"
      ]
     },
     "execution_count": 18,
     "metadata": {},
     "output_type": "execute_result"
    },
    {
     "data": {
      "image/png": "[encoded data removed]",
      "text/plain": [
       "<Figure size 360x360 with 1 Axes>"
      ]
     },
     "metadata": {
      "needs_background": "light"
     },
     "output_type": "display_data"
    }
   ],
   "source": [
    "# plotting fraud cases by value\n",
    "sns.factorplot(x=\"fraude\", y=\"valor\", data=fraud_df)\n",
    "plt.xlabel(\" 0: not fraud / 1: fraud \")\n",
    "plt.ylabel(\"Purchase value\", fontsize=15)"
   ]
  },
  {
   "cell_type": "code",
   "execution_count": 19,
   "metadata": {
    "ExecuteTime": {
     "end_time": "2020-08-18T18:03:42.211203Z",
     "start_time": "2020-08-18T18:03:38.517082Z"
    },
    "scrolled": true
   },
   "outputs": [
    {
     "data": {
      "text/plain": [
       "Text(-5.825000000000003, 0.5, \"User's age\")"
      ]
     },
     "execution_count": 19,
     "metadata": {},
     "output_type": "execute_result"
    },
    {
     "data": {
      "image/png": "[encoded data removed]",
      "text/plain": [
       "<Figure size 360x360 with 1 Axes>"
      ]
     },
     "metadata": {
      "needs_background": "light"
     },
     "output_type": "display_data"
    }
   ],
   "source": [
    "# reproducing the plot for user age\n",
    "\n",
    "sns.factorplot(x=\"fraude\",y=\"idade\",data=fraud_df)\n",
    "plt.xlabel(\"0: not fraud / 1: fraud\")\n",
    "plt.ylabel(\"User's age\", fontsize=15)"
   ]
  },
  {
   "cell_type": "code",
   "execution_count": 20,
   "metadata": {
    "ExecuteTime": {
     "end_time": "2020-08-18T18:03:42.346840Z",
     "start_time": "2020-08-18T18:03:42.212200Z"
    },
    "scrolled": true
   },
   "outputs": [
    {
     "data": {
      "text/plain": [
       "Text(0, 0.5, 'Fraudulent cases')"
      ]
     },
     "execution_count": 20,
     "metadata": {},
     "output_type": "execute_result"
    },
    {
     "data": {
      "image/png": "[encoded data removed]",
      "text/plain": [
       "<Figure size 432x288 with 1 Axes>"
      ]
     },
     "metadata": {
      "needs_background": "light"
     },
     "output_type": "display_data"
    }
   ],
   "source": [
    "# plotting fraud by traffic source\n",
    "\n",
    "sns.countplot(x=\"fonte\",hue=\"fraude\",data=fraud_df)\n",
    "plt.xlabel(\"Traffic source\")\n",
    "plt.ylabel(\"Fraudulent cases\", fontsize=15)"
   ]
  },
  {
   "cell_type": "code",
   "execution_count": 21,
   "metadata": {
    "ExecuteTime": {
     "end_time": "2020-08-18T18:03:42.427623Z",
     "start_time": "2020-08-18T18:03:42.349832Z"
    }
   },
   "outputs": [],
   "source": [
    "# grouping fraudulent purchases by country\n",
    "\n",
    "fraud_sum = fraud_df[fraud_df['fraude'] == 1][\"fraude\"].groupby(fraud_df.pais).sum()\n",
    "fraud_sum = fraud_sum.to_frame().reset_index()\n",
    "\n",
    "not_fraud_sum = fraud_df[fraud_df[\"fraude\"] == 0][\"fraude\"].groupby(fraud_df.pais).sum()\n",
    "not_fraud_sum = not_fraud_sum.to_frame().reset_index()"
   ]
  },
  {
   "cell_type": "code",
   "execution_count": 22,
   "metadata": {
    "ExecuteTime": {
     "end_time": "2020-08-18T18:03:43.697228Z",
     "start_time": "2020-08-18T18:03:42.429619Z"
    }
   },
   "outputs": [
    {
     "data": {
      "text/plain": [
       "Text(0, 0.5, 'Countries')"
      ]
     },
     "execution_count": 22,
     "metadata": {},
     "output_type": "execute_result"
    },
    {
     "data": {
      "image/png": "[encoded data removed]",
      "text/plain": [
       "<Figure size 1440x1800 with 1 Axes>"
      ]
     },
     "metadata": {
      "needs_background": "light"
     },
     "output_type": "display_data"
    }
   ],
   "source": [
    "# plotting the fraud results\n",
    "\n",
    "f, ax = plt.subplots(figsize=(20,25))\n",
    "sns.set_color_codes(\"muted\")\n",
    "sns.barplot(x=\"fraude\", y=\"pais\", data=fraud_sum, label=\"Total\", color=\"b\")\n",
    "plt.xlabel(\"Fraud count\", fontsize=15)\n",
    "plt.ylabel(\"Countries\", fontsize=15)"
   ]
  },
  {
   "cell_type": "code",
   "execution_count": 23,
   "metadata": {
    "ExecuteTime": {
     "end_time": "2020-08-18T18:03:46.952524Z",
     "start_time": "2020-08-18T18:03:43.698227Z"
    }
   },
   "outputs": [],
   "source": [
    "# grouping data in a new dataframe\n",
    "\n",
    "temp_df = pd.DataFrame(columns=(\"fraud\",\"id_by_device\",\"id_by_ip\"))\n",
    "temp_df[\"fraude\"] = fraud_df[\"fraude\"]\n",
    "\n",
    "userid_device = fraud_df.groupby(\"id_dispositivo\").id.count()\n",
    "temp_df[\"id_by_device\"] = fraud_df.id_dispositivo.apply(lambda x: userid_device[x])\n",
    "\n",
    "userid_ip = fraud_df.groupby(\"ip\").id.count()\n",
    "temp_df[\"id_by_ip\"] = fraud_df.ip.apply(lambda x: userid_ip[x])"
   ]
  },
  {
   "cell_type": "code",
   "execution_count": 24,
   "metadata": {
    "ExecuteTime": {
     "end_time": "2020-08-18T18:03:47.004384Z",
     "start_time": "2020-08-18T18:03:46.953519Z"
    }
   },
   "outputs": [
    {
     "data": {
      "text/html": [
       "<div>\n",
       "<style scoped>\n",
       "    .dataframe tbody tr th:only-of-type {\n",
       "        vertical-align: middle;\n",
       "    }\n",
       "\n",
       "    .dataframe tbody tr th {\n",
       "        vertical-align: top;\n",
       "    }\n",
       "\n",
       "    .dataframe thead th {\n",
       "        text-align: right;\n",
       "    }\n",
       "</style>\n",
       "<table border=\"1\" class=\"dataframe\">\n",
       "  <thead>\n",
       "    <tr style=\"text-align: right;\">\n",
       "      <th></th>\n",
       "      <th>fraud</th>\n",
       "      <th>id_by_device</th>\n",
       "      <th>id_by_ip</th>\n",
       "    </tr>\n",
       "  </thead>\n",
       "  <tbody>\n",
       "    <tr>\n",
       "      <th>0</th>\n",
       "      <td>0</td>\n",
       "      <td>1</td>\n",
       "      <td>1</td>\n",
       "    </tr>\n",
       "    <tr>\n",
       "      <th>1</th>\n",
       "      <td>0</td>\n",
       "      <td>1</td>\n",
       "      <td>1</td>\n",
       "    </tr>\n",
       "    <tr>\n",
       "      <th>2</th>\n",
       "      <td>1</td>\n",
       "      <td>12</td>\n",
       "      <td>12</td>\n",
       "    </tr>\n",
       "    <tr>\n",
       "      <th>3</th>\n",
       "      <td>0</td>\n",
       "      <td>1</td>\n",
       "      <td>1</td>\n",
       "    </tr>\n",
       "    <tr>\n",
       "      <th>4</th>\n",
       "      <td>0</td>\n",
       "      <td>1</td>\n",
       "      <td>1</td>\n",
       "    </tr>\n",
       "  </tbody>\n",
       "</table>\n",
       "</div>"
      ],
      "text/plain": [
       "   fraud  id_by_device  id_by_ip\n",
       "0      0             1         1\n",
       "1      0             1         1\n",
       "2      1            12        12\n",
       "3      0             1         1\n",
       "4      0             1         1"
      ]
     },
     "execution_count": 24,
     "metadata": {},
     "output_type": "execute_result"
    }
   ],
   "source": [
    "# correcting error where fraud became NaN and a \"fraude\" column was imported\n",
    "temp_df.fraud = temp_df.fraude\n",
    "temp_df = temp_df.drop(['fraude'], axis=1)\n",
    "temp_df.head()"
   ]
  },
  {
   "cell_type": "code",
   "execution_count": 25,
   "metadata": {
    "ExecuteTime": {
     "end_time": "2020-08-18T18:03:54.198144Z",
     "start_time": "2020-08-18T18:03:47.005381Z"
    }
   },
   "outputs": [
    {
     "name": "stderr",
     "output_type": "stream",
     "text": [
      "D:\\Anaconda\\lib\\site-packages\\seaborn\\categorical.py:3666: UserWarning: The `factorplot` function has been renamed to `catplot`. The original name will be removed in a future release. Please update your code. Note that the default `kind` in `factorplot` (`'point'`) has changed `'strip'` in `catplot`.\n",
      "  warnings.warn(msg)\n"
     ]
    },
    {
     "data": {
      "text/plain": [
       "Text(16.299999999999997, 0.5, 'User ID by IP')"
      ]
     },
     "execution_count": 25,
     "metadata": {},
     "output_type": "execute_result"
    },
    {
     "data": {
      "image/png": "[encoded data removed]",
      "text/plain": [
       "<Figure size 360x360 with 1 Axes>"
      ]
     },
     "metadata": {
      "needs_background": "light"
     },
     "output_type": "display_data"
    },
    {
     "data": {
      "image/png": "[encoded data removed]",
      "text/plain": [
       "<Figure size 360x360 with 1 Axes>"
      ]
     },
     "metadata": {
      "needs_background": "light"
     },
     "output_type": "display_data"
    }
   ],
   "source": [
    "# plotting graphs for both new temporary datasets\n",
    "sns.factorplot(x=\"fraud\",y=\"id_by_device\",data=temp_df)\n",
    "plt.xlabel(\"Not fraud: 0 | Fraud: 1\", fontsize=15)\n",
    "plt.ylabel(\"User ID by device\", fontsize=15)\n",
    "\n",
    "sns.factorplot(x=\"fraud\",y=\"id_by_ip\",data=temp_df)\n",
    "plt.xlabel(\"Not fraud: 0 | Fraud: 1\", fontsize=15)\n",
    "plt.ylabel(\"User ID by IP\", fontsize=15)"
   ]
  },
  {
   "cell_type": "code",
   "execution_count": 26,
   "metadata": {
    "ExecuteTime": {
     "end_time": "2020-08-18T18:04:18.830269Z",
     "start_time": "2020-08-18T18:03:54.199142Z"
    }
   },
   "outputs": [],
   "source": [
    "# we find that there's a strong correlationg between\n",
    "# several IPs and devices used by the same users to fraudulent transactions\n",
    "\n",
    "# now checking how much time there is between registration and purchase\n",
    "\n",
    "temp_df['registration'] = fraud_df.cadastro.apply(pd.to_datetime)\n",
    "temp_df['purchase'] = fraud_df.compra.apply(pd.to_datetime)\n",
    "temp_df['time_between'] = (temp_df.purchase - temp_df.registration).apply(lambda x: x.seconds)"
   ]
  },
  {
   "cell_type": "code",
   "execution_count": 27,
   "metadata": {
    "ExecuteTime": {
     "end_time": "2020-08-18T18:04:23.294329Z",
     "start_time": "2020-08-18T18:04:18.831264Z"
    }
   },
   "outputs": [
    {
     "data": {
      "text/plain": [
       "Text(-8.825000000000003, 0.5, 'Time between registration and purchase')"
      ]
     },
     "execution_count": 27,
     "metadata": {},
     "output_type": "execute_result"
    },
    {
     "data": {
      "image/png": "[encoded data removed]",
      "text/plain": [
       "<Figure size 360x360 with 1 Axes>"
      ]
     },
     "metadata": {
      "needs_background": "light"
     },
     "output_type": "display_data"
    }
   ],
   "source": [
    "# plotting the time difference versus fraudulent activity\n",
    "\n",
    "sns.factorplot(x=\"fraud\",y=\"time_between\",data=temp_df)\n",
    "plt.xlabel(\"Not fraud: 0 | Fraud: 1\", fontsize=15)\n",
    "plt.ylabel(\"Time between registration and purchase\", fontsize=15)"
   ]
  },
  {
   "cell_type": "code",
   "execution_count": 28,
   "metadata": {
    "ExecuteTime": {
     "end_time": "2020-08-18T18:04:23.569593Z",
     "start_time": "2020-08-18T18:04:23.295326Z"
    }
   },
   "outputs": [
    {
     "data": {
      "text/plain": [
       "Text(0, 0.5, 'Fraud cases')"
      ]
     },
     "execution_count": 28,
     "metadata": {},
     "output_type": "execute_result"
    },
    {
     "data": {
      "image/png": "[encoded data removed]",
      "text/plain": [
       "<Figure size 432x288 with 1 Axes>"
      ]
     },
     "metadata": {
      "needs_background": "light"
     },
     "output_type": "display_data"
    }
   ],
   "source": [
    "# Checking week of the year for frauds\n",
    "# which will tell correlation at certain festivities\n",
    "\n",
    "temp_df[temp_df['fraud'] == 1].registration.apply(lambda x: x.week).hist()\n",
    "plt.xlabel(\"Purchase week\", fontsize=15)\n",
    "plt.ylabel(\"Fraud cases\", fontsize=15)"
   ]
  },
  {
   "cell_type": "markdown",
   "metadata": {
    "ExecuteTime": {
     "end_time": "2020-08-15T23:36:40.196104Z",
     "start_time": "2020-08-15T23:36:40.192114Z"
    }
   },
   "source": [
    "***\n",
    "\n",
    "## 3. Feature Engineering"
   ]
  },
  {
   "cell_type": "code",
   "execution_count": 29,
   "metadata": {
    "ExecuteTime": {
     "end_time": "2020-08-18T18:04:25.100498Z",
     "start_time": "2020-08-18T18:04:23.570590Z"
    },
    "scrolled": true
   },
   "outputs": [
    {
     "data": {
      "text/html": [
       "<div>\n",
       "<style scoped>\n",
       "    .dataframe tbody tr th:only-of-type {\n",
       "        vertical-align: middle;\n",
       "    }\n",
       "\n",
       "    .dataframe tbody tr th {\n",
       "        vertical-align: top;\n",
       "    }\n",
       "\n",
       "    .dataframe thead th {\n",
       "        text-align: right;\n",
       "    }\n",
       "</style>\n",
       "<table border=\"1\" class=\"dataframe\">\n",
       "  <thead>\n",
       "    <tr style=\"text-align: right;\">\n",
       "      <th></th>\n",
       "      <th>id</th>\n",
       "      <th>cadastro</th>\n",
       "      <th>compra</th>\n",
       "      <th>valor</th>\n",
       "      <th>id_dispositivo</th>\n",
       "      <th>fonte</th>\n",
       "      <th>browser</th>\n",
       "      <th>genero</th>\n",
       "      <th>idade</th>\n",
       "      <th>ip</th>\n",
       "      <th>fraude</th>\n",
       "      <th>pais</th>\n",
       "      <th>users_by_device</th>\n",
       "    </tr>\n",
       "  </thead>\n",
       "  <tbody>\n",
       "    <tr>\n",
       "      <th>0</th>\n",
       "      <td>22058</td>\n",
       "      <td>2015-02-24 22:55:49</td>\n",
       "      <td>2015-04-18 02:47:11</td>\n",
       "      <td>34</td>\n",
       "      <td>QVPSPJUOCKZAR</td>\n",
       "      <td>SEO</td>\n",
       "      <td>Chrome</td>\n",
       "      <td>M</td>\n",
       "      <td>39</td>\n",
       "      <td>7.327584e+08</td>\n",
       "      <td>0</td>\n",
       "      <td>Japan</td>\n",
       "      <td>1</td>\n",
       "    </tr>\n",
       "    <tr>\n",
       "      <th>1</th>\n",
       "      <td>333320</td>\n",
       "      <td>2015-06-07 20:39:50</td>\n",
       "      <td>2015-06-08 01:38:54</td>\n",
       "      <td>16</td>\n",
       "      <td>EOGFQPIZPYXFZ</td>\n",
       "      <td>Ads</td>\n",
       "      <td>Chrome</td>\n",
       "      <td>F</td>\n",
       "      <td>53</td>\n",
       "      <td>3.503114e+08</td>\n",
       "      <td>0</td>\n",
       "      <td>United States</td>\n",
       "      <td>1</td>\n",
       "    </tr>\n",
       "    <tr>\n",
       "      <th>2</th>\n",
       "      <td>1359</td>\n",
       "      <td>2015-01-01 18:52:44</td>\n",
       "      <td>2015-01-01 18:52:45</td>\n",
       "      <td>15</td>\n",
       "      <td>YSSKYOSJHPPLJ</td>\n",
       "      <td>SEO</td>\n",
       "      <td>Opera</td>\n",
       "      <td>M</td>\n",
       "      <td>53</td>\n",
       "      <td>2.621474e+09</td>\n",
       "      <td>1</td>\n",
       "      <td>United States</td>\n",
       "      <td>12</td>\n",
       "    </tr>\n",
       "    <tr>\n",
       "      <th>3</th>\n",
       "      <td>150084</td>\n",
       "      <td>2015-04-28 21:13:25</td>\n",
       "      <td>2015-05-04 13:54:50</td>\n",
       "      <td>44</td>\n",
       "      <td>ATGTXKYKUDUQN</td>\n",
       "      <td>SEO</td>\n",
       "      <td>Safari</td>\n",
       "      <td>M</td>\n",
       "      <td>41</td>\n",
       "      <td>3.840542e+09</td>\n",
       "      <td>0</td>\n",
       "      <td>NaN</td>\n",
       "      <td>1</td>\n",
       "    </tr>\n",
       "    <tr>\n",
       "      <th>4</th>\n",
       "      <td>221365</td>\n",
       "      <td>2015-07-21 07:09:52</td>\n",
       "      <td>2015-09-09 18:40:53</td>\n",
       "      <td>39</td>\n",
       "      <td>NAUITBZFJKHWW</td>\n",
       "      <td>Ads</td>\n",
       "      <td>Safari</td>\n",
       "      <td>M</td>\n",
       "      <td>45</td>\n",
       "      <td>4.155831e+08</td>\n",
       "      <td>0</td>\n",
       "      <td>United States</td>\n",
       "      <td>1</td>\n",
       "    </tr>\n",
       "  </tbody>\n",
       "</table>\n",
       "</div>"
      ],
      "text/plain": [
       "       id             cadastro               compra  valor id_dispositivo  \\\n",
       "0   22058  2015-02-24 22:55:49  2015-04-18 02:47:11     34  QVPSPJUOCKZAR   \n",
       "1  333320  2015-06-07 20:39:50  2015-06-08 01:38:54     16  EOGFQPIZPYXFZ   \n",
       "2    1359  2015-01-01 18:52:44  2015-01-01 18:52:45     15  YSSKYOSJHPPLJ   \n",
       "3  150084  2015-04-28 21:13:25  2015-05-04 13:54:50     44  ATGTXKYKUDUQN   \n",
       "4  221365  2015-07-21 07:09:52  2015-09-09 18:40:53     39  NAUITBZFJKHWW   \n",
       "\n",
       "  fonte browser genero  idade            ip  fraude           pais  \\\n",
       "0   SEO  Chrome      M     39  7.327584e+08       0          Japan   \n",
       "1   Ads  Chrome      F     53  3.503114e+08       0  United States   \n",
       "2   SEO   Opera      M     53  2.621474e+09       1  United States   \n",
       "3   SEO  Safari      M     41  3.840542e+09       0            NaN   \n",
       "4   Ads  Safari      M     45  4.155831e+08       0  United States   \n",
       "\n",
       "   users_by_device  \n",
       "0                1  \n",
       "1                1  \n",
       "2               12  \n",
       "3                1  \n",
       "4                1  "
      ]
     },
     "execution_count": 29,
     "metadata": {},
     "output_type": "execute_result"
    }
   ],
   "source": [
    "# adding new feature for identifying multiple users in each device\n",
    "\n",
    "users_by_device = fraud_df.groupby('id_dispositivo').id.count()\n",
    "fraud_df['users_by_device'] = fraud_df.id_dispositivo.apply(lambda x: users_by_device[x])\n",
    "fraud_df.head()"
   ]
  },
  {
   "cell_type": "code",
   "execution_count": 30,
   "metadata": {
    "ExecuteTime": {
     "end_time": "2020-08-18T18:04:26.804111Z",
     "start_time": "2020-08-18T18:04:25.101496Z"
    },
    "scrolled": true
   },
   "outputs": [
    {
     "data": {
      "text/html": [
       "<div>\n",
       "<style scoped>\n",
       "    .dataframe tbody tr th:only-of-type {\n",
       "        vertical-align: middle;\n",
       "    }\n",
       "\n",
       "    .dataframe tbody tr th {\n",
       "        vertical-align: top;\n",
       "    }\n",
       "\n",
       "    .dataframe thead th {\n",
       "        text-align: right;\n",
       "    }\n",
       "</style>\n",
       "<table border=\"1\" class=\"dataframe\">\n",
       "  <thead>\n",
       "    <tr style=\"text-align: right;\">\n",
       "      <th></th>\n",
       "      <th>id</th>\n",
       "      <th>cadastro</th>\n",
       "      <th>compra</th>\n",
       "      <th>valor</th>\n",
       "      <th>id_dispositivo</th>\n",
       "      <th>fonte</th>\n",
       "      <th>browser</th>\n",
       "      <th>genero</th>\n",
       "      <th>idade</th>\n",
       "      <th>ip</th>\n",
       "      <th>fraude</th>\n",
       "      <th>pais</th>\n",
       "      <th>users_by_device</th>\n",
       "      <th>user_by_ip</th>\n",
       "    </tr>\n",
       "  </thead>\n",
       "  <tbody>\n",
       "    <tr>\n",
       "      <th>0</th>\n",
       "      <td>22058</td>\n",
       "      <td>2015-02-24 22:55:49</td>\n",
       "      <td>2015-04-18 02:47:11</td>\n",
       "      <td>34</td>\n",
       "      <td>QVPSPJUOCKZAR</td>\n",
       "      <td>SEO</td>\n",
       "      <td>Chrome</td>\n",
       "      <td>M</td>\n",
       "      <td>39</td>\n",
       "      <td>7.327584e+08</td>\n",
       "      <td>0</td>\n",
       "      <td>Japan</td>\n",
       "      <td>1</td>\n",
       "      <td>1</td>\n",
       "    </tr>\n",
       "    <tr>\n",
       "      <th>1</th>\n",
       "      <td>333320</td>\n",
       "      <td>2015-06-07 20:39:50</td>\n",
       "      <td>2015-06-08 01:38:54</td>\n",
       "      <td>16</td>\n",
       "      <td>EOGFQPIZPYXFZ</td>\n",
       "      <td>Ads</td>\n",
       "      <td>Chrome</td>\n",
       "      <td>F</td>\n",
       "      <td>53</td>\n",
       "      <td>3.503114e+08</td>\n",
       "      <td>0</td>\n",
       "      <td>United States</td>\n",
       "      <td>1</td>\n",
       "      <td>1</td>\n",
       "    </tr>\n",
       "    <tr>\n",
       "      <th>2</th>\n",
       "      <td>1359</td>\n",
       "      <td>2015-01-01 18:52:44</td>\n",
       "      <td>2015-01-01 18:52:45</td>\n",
       "      <td>15</td>\n",
       "      <td>YSSKYOSJHPPLJ</td>\n",
       "      <td>SEO</td>\n",
       "      <td>Opera</td>\n",
       "      <td>M</td>\n",
       "      <td>53</td>\n",
       "      <td>2.621474e+09</td>\n",
       "      <td>1</td>\n",
       "      <td>United States</td>\n",
       "      <td>12</td>\n",
       "      <td>12</td>\n",
       "    </tr>\n",
       "    <tr>\n",
       "      <th>3</th>\n",
       "      <td>150084</td>\n",
       "      <td>2015-04-28 21:13:25</td>\n",
       "      <td>2015-05-04 13:54:50</td>\n",
       "      <td>44</td>\n",
       "      <td>ATGTXKYKUDUQN</td>\n",
       "      <td>SEO</td>\n",
       "      <td>Safari</td>\n",
       "      <td>M</td>\n",
       "      <td>41</td>\n",
       "      <td>3.840542e+09</td>\n",
       "      <td>0</td>\n",
       "      <td>NaN</td>\n",
       "      <td>1</td>\n",
       "      <td>1</td>\n",
       "    </tr>\n",
       "    <tr>\n",
       "      <th>4</th>\n",
       "      <td>221365</td>\n",
       "      <td>2015-07-21 07:09:52</td>\n",
       "      <td>2015-09-09 18:40:53</td>\n",
       "      <td>39</td>\n",
       "      <td>NAUITBZFJKHWW</td>\n",
       "      <td>Ads</td>\n",
       "      <td>Safari</td>\n",
       "      <td>M</td>\n",
       "      <td>45</td>\n",
       "      <td>4.155831e+08</td>\n",
       "      <td>0</td>\n",
       "      <td>United States</td>\n",
       "      <td>1</td>\n",
       "      <td>1</td>\n",
       "    </tr>\n",
       "  </tbody>\n",
       "</table>\n",
       "</div>"
      ],
      "text/plain": [
       "       id             cadastro               compra  valor id_dispositivo  \\\n",
       "0   22058  2015-02-24 22:55:49  2015-04-18 02:47:11     34  QVPSPJUOCKZAR   \n",
       "1  333320  2015-06-07 20:39:50  2015-06-08 01:38:54     16  EOGFQPIZPYXFZ   \n",
       "2    1359  2015-01-01 18:52:44  2015-01-01 18:52:45     15  YSSKYOSJHPPLJ   \n",
       "3  150084  2015-04-28 21:13:25  2015-05-04 13:54:50     44  ATGTXKYKUDUQN   \n",
       "4  221365  2015-07-21 07:09:52  2015-09-09 18:40:53     39  NAUITBZFJKHWW   \n",
       "\n",
       "  fonte browser genero  idade            ip  fraude           pais  \\\n",
       "0   SEO  Chrome      M     39  7.327584e+08       0          Japan   \n",
       "1   Ads  Chrome      F     53  3.503114e+08       0  United States   \n",
       "2   SEO   Opera      M     53  2.621474e+09       1  United States   \n",
       "3   SEO  Safari      M     41  3.840542e+09       0            NaN   \n",
       "4   Ads  Safari      M     45  4.155831e+08       0  United States   \n",
       "\n",
       "   users_by_device  user_by_ip  \n",
       "0                1           1  \n",
       "1                1           1  \n",
       "2               12          12  \n",
       "3                1           1  \n",
       "4                1           1  "
      ]
     },
     "execution_count": 30,
     "metadata": {},
     "output_type": "execute_result"
    }
   ],
   "source": [
    "# adding new feature for identifying multiple users in each IP\n",
    "\n",
    "users_by_ip = fraud_df.groupby('ip').id.count()\n",
    "fraud_df['user_by_ip'] = fraud_df.ip.apply(lambda x: users_by_ip[x])\n",
    "fraud_df.head()"
   ]
  },
  {
   "cell_type": "code",
   "execution_count": 31,
   "metadata": {
    "ExecuteTime": {
     "end_time": "2020-08-18T18:04:26.975484Z",
     "start_time": "2020-08-18T18:04:26.804940Z"
    },
    "scrolled": true
   },
   "outputs": [
    {
     "data": {
      "text/html": [
       "<div>\n",
       "<style scoped>\n",
       "    .dataframe tbody tr th:only-of-type {\n",
       "        vertical-align: middle;\n",
       "    }\n",
       "\n",
       "    .dataframe tbody tr th {\n",
       "        vertical-align: top;\n",
       "    }\n",
       "\n",
       "    .dataframe thead th {\n",
       "        text-align: right;\n",
       "    }\n",
       "</style>\n",
       "<table border=\"1\" class=\"dataframe\">\n",
       "  <thead>\n",
       "    <tr style=\"text-align: right;\">\n",
       "      <th></th>\n",
       "      <th>id</th>\n",
       "      <th>cadastro</th>\n",
       "      <th>compra</th>\n",
       "      <th>valor</th>\n",
       "      <th>id_dispositivo</th>\n",
       "      <th>fonte</th>\n",
       "      <th>browser</th>\n",
       "      <th>genero</th>\n",
       "      <th>idade</th>\n",
       "      <th>ip</th>\n",
       "      <th>fraude</th>\n",
       "      <th>pais</th>\n",
       "      <th>users_by_device</th>\n",
       "      <th>user_by_ip</th>\n",
       "      <th>average_ids</th>\n",
       "    </tr>\n",
       "  </thead>\n",
       "  <tbody>\n",
       "    <tr>\n",
       "      <th>0</th>\n",
       "      <td>22058</td>\n",
       "      <td>2015-02-24 22:55:49</td>\n",
       "      <td>2015-04-18 02:47:11</td>\n",
       "      <td>34</td>\n",
       "      <td>QVPSPJUOCKZAR</td>\n",
       "      <td>SEO</td>\n",
       "      <td>Chrome</td>\n",
       "      <td>M</td>\n",
       "      <td>39</td>\n",
       "      <td>7.327584e+08</td>\n",
       "      <td>0</td>\n",
       "      <td>Japan</td>\n",
       "      <td>1</td>\n",
       "      <td>1</td>\n",
       "      <td>1.0</td>\n",
       "    </tr>\n",
       "    <tr>\n",
       "      <th>1</th>\n",
       "      <td>333320</td>\n",
       "      <td>2015-06-07 20:39:50</td>\n",
       "      <td>2015-06-08 01:38:54</td>\n",
       "      <td>16</td>\n",
       "      <td>EOGFQPIZPYXFZ</td>\n",
       "      <td>Ads</td>\n",
       "      <td>Chrome</td>\n",
       "      <td>F</td>\n",
       "      <td>53</td>\n",
       "      <td>3.503114e+08</td>\n",
       "      <td>0</td>\n",
       "      <td>United States</td>\n",
       "      <td>1</td>\n",
       "      <td>1</td>\n",
       "      <td>1.0</td>\n",
       "    </tr>\n",
       "    <tr>\n",
       "      <th>2</th>\n",
       "      <td>1359</td>\n",
       "      <td>2015-01-01 18:52:44</td>\n",
       "      <td>2015-01-01 18:52:45</td>\n",
       "      <td>15</td>\n",
       "      <td>YSSKYOSJHPPLJ</td>\n",
       "      <td>SEO</td>\n",
       "      <td>Opera</td>\n",
       "      <td>M</td>\n",
       "      <td>53</td>\n",
       "      <td>2.621474e+09</td>\n",
       "      <td>1</td>\n",
       "      <td>United States</td>\n",
       "      <td>12</td>\n",
       "      <td>12</td>\n",
       "      <td>12.0</td>\n",
       "    </tr>\n",
       "    <tr>\n",
       "      <th>3</th>\n",
       "      <td>150084</td>\n",
       "      <td>2015-04-28 21:13:25</td>\n",
       "      <td>2015-05-04 13:54:50</td>\n",
       "      <td>44</td>\n",
       "      <td>ATGTXKYKUDUQN</td>\n",
       "      <td>SEO</td>\n",
       "      <td>Safari</td>\n",
       "      <td>M</td>\n",
       "      <td>41</td>\n",
       "      <td>3.840542e+09</td>\n",
       "      <td>0</td>\n",
       "      <td>NaN</td>\n",
       "      <td>1</td>\n",
       "      <td>1</td>\n",
       "      <td>1.0</td>\n",
       "    </tr>\n",
       "    <tr>\n",
       "      <th>4</th>\n",
       "      <td>221365</td>\n",
       "      <td>2015-07-21 07:09:52</td>\n",
       "      <td>2015-09-09 18:40:53</td>\n",
       "      <td>39</td>\n",
       "      <td>NAUITBZFJKHWW</td>\n",
       "      <td>Ads</td>\n",
       "      <td>Safari</td>\n",
       "      <td>M</td>\n",
       "      <td>45</td>\n",
       "      <td>4.155831e+08</td>\n",
       "      <td>0</td>\n",
       "      <td>United States</td>\n",
       "      <td>1</td>\n",
       "      <td>1</td>\n",
       "      <td>1.0</td>\n",
       "    </tr>\n",
       "  </tbody>\n",
       "</table>\n",
       "</div>"
      ],
      "text/plain": [
       "       id             cadastro               compra  valor id_dispositivo  \\\n",
       "0   22058  2015-02-24 22:55:49  2015-04-18 02:47:11     34  QVPSPJUOCKZAR   \n",
       "1  333320  2015-06-07 20:39:50  2015-06-08 01:38:54     16  EOGFQPIZPYXFZ   \n",
       "2    1359  2015-01-01 18:52:44  2015-01-01 18:52:45     15  YSSKYOSJHPPLJ   \n",
       "3  150084  2015-04-28 21:13:25  2015-05-04 13:54:50     44  ATGTXKYKUDUQN   \n",
       "4  221365  2015-07-21 07:09:52  2015-09-09 18:40:53     39  NAUITBZFJKHWW   \n",
       "\n",
       "  fonte browser genero  idade            ip  fraude           pais  \\\n",
       "0   SEO  Chrome      M     39  7.327584e+08       0          Japan   \n",
       "1   Ads  Chrome      F     53  3.503114e+08       0  United States   \n",
       "2   SEO   Opera      M     53  2.621474e+09       1  United States   \n",
       "3   SEO  Safari      M     41  3.840542e+09       0            NaN   \n",
       "4   Ads  Safari      M     45  4.155831e+08       0  United States   \n",
       "\n",
       "   users_by_device  user_by_ip  average_ids  \n",
       "0                1           1          1.0  \n",
       "1                1           1          1.0  \n",
       "2               12          12         12.0  \n",
       "3                1           1          1.0  \n",
       "4                1           1          1.0  "
      ]
     },
     "execution_count": 31,
     "metadata": {},
     "output_type": "execute_result"
    }
   ],
   "source": [
    "# adding average for the newly added columns\n",
    "\n",
    "fraud_df['average_ids'] = (fraud_df.users_by_device + fraud_df.user_by_ip) * 0.5\n",
    "fraud_df.head()"
   ]
  },
  {
   "cell_type": "code",
   "execution_count": 32,
   "metadata": {
    "ExecuteTime": {
     "end_time": "2020-08-18T18:04:51.352289Z",
     "start_time": "2020-08-18T18:04:26.976481Z"
    },
    "scrolled": true
   },
   "outputs": [
    {
     "data": {
      "text/html": [
       "<div>\n",
       "<style scoped>\n",
       "    .dataframe tbody tr th:only-of-type {\n",
       "        vertical-align: middle;\n",
       "    }\n",
       "\n",
       "    .dataframe tbody tr th {\n",
       "        vertical-align: top;\n",
       "    }\n",
       "\n",
       "    .dataframe thead th {\n",
       "        text-align: right;\n",
       "    }\n",
       "</style>\n",
       "<table border=\"1\" class=\"dataframe\">\n",
       "  <thead>\n",
       "    <tr style=\"text-align: right;\">\n",
       "      <th></th>\n",
       "      <th>id</th>\n",
       "      <th>cadastro</th>\n",
       "      <th>compra</th>\n",
       "      <th>valor</th>\n",
       "      <th>id_dispositivo</th>\n",
       "      <th>fonte</th>\n",
       "      <th>browser</th>\n",
       "      <th>genero</th>\n",
       "      <th>idade</th>\n",
       "      <th>ip</th>\n",
       "      <th>fraude</th>\n",
       "      <th>pais</th>\n",
       "      <th>users_by_device</th>\n",
       "      <th>user_by_ip</th>\n",
       "      <th>average_ids</th>\n",
       "      <th>time_between</th>\n",
       "    </tr>\n",
       "  </thead>\n",
       "  <tbody>\n",
       "    <tr>\n",
       "      <th>0</th>\n",
       "      <td>22058</td>\n",
       "      <td>2015-02-24 22:55:49</td>\n",
       "      <td>2015-04-18 02:47:11</td>\n",
       "      <td>34</td>\n",
       "      <td>QVPSPJUOCKZAR</td>\n",
       "      <td>SEO</td>\n",
       "      <td>Chrome</td>\n",
       "      <td>M</td>\n",
       "      <td>39</td>\n",
       "      <td>7.327584e+08</td>\n",
       "      <td>0</td>\n",
       "      <td>Japan</td>\n",
       "      <td>1</td>\n",
       "      <td>1</td>\n",
       "      <td>1.0</td>\n",
       "      <td>13882</td>\n",
       "    </tr>\n",
       "    <tr>\n",
       "      <th>1</th>\n",
       "      <td>333320</td>\n",
       "      <td>2015-06-07 20:39:50</td>\n",
       "      <td>2015-06-08 01:38:54</td>\n",
       "      <td>16</td>\n",
       "      <td>EOGFQPIZPYXFZ</td>\n",
       "      <td>Ads</td>\n",
       "      <td>Chrome</td>\n",
       "      <td>F</td>\n",
       "      <td>53</td>\n",
       "      <td>3.503114e+08</td>\n",
       "      <td>0</td>\n",
       "      <td>United States</td>\n",
       "      <td>1</td>\n",
       "      <td>1</td>\n",
       "      <td>1.0</td>\n",
       "      <td>17944</td>\n",
       "    </tr>\n",
       "    <tr>\n",
       "      <th>2</th>\n",
       "      <td>1359</td>\n",
       "      <td>2015-01-01 18:52:44</td>\n",
       "      <td>2015-01-01 18:52:45</td>\n",
       "      <td>15</td>\n",
       "      <td>YSSKYOSJHPPLJ</td>\n",
       "      <td>SEO</td>\n",
       "      <td>Opera</td>\n",
       "      <td>M</td>\n",
       "      <td>53</td>\n",
       "      <td>2.621474e+09</td>\n",
       "      <td>1</td>\n",
       "      <td>United States</td>\n",
       "      <td>12</td>\n",
       "      <td>12</td>\n",
       "      <td>12.0</td>\n",
       "      <td>1</td>\n",
       "    </tr>\n",
       "    <tr>\n",
       "      <th>3</th>\n",
       "      <td>150084</td>\n",
       "      <td>2015-04-28 21:13:25</td>\n",
       "      <td>2015-05-04 13:54:50</td>\n",
       "      <td>44</td>\n",
       "      <td>ATGTXKYKUDUQN</td>\n",
       "      <td>SEO</td>\n",
       "      <td>Safari</td>\n",
       "      <td>M</td>\n",
       "      <td>41</td>\n",
       "      <td>3.840542e+09</td>\n",
       "      <td>0</td>\n",
       "      <td>NaN</td>\n",
       "      <td>1</td>\n",
       "      <td>1</td>\n",
       "      <td>1.0</td>\n",
       "      <td>60085</td>\n",
       "    </tr>\n",
       "    <tr>\n",
       "      <th>4</th>\n",
       "      <td>221365</td>\n",
       "      <td>2015-07-21 07:09:52</td>\n",
       "      <td>2015-09-09 18:40:53</td>\n",
       "      <td>39</td>\n",
       "      <td>NAUITBZFJKHWW</td>\n",
       "      <td>Ads</td>\n",
       "      <td>Safari</td>\n",
       "      <td>M</td>\n",
       "      <td>45</td>\n",
       "      <td>4.155831e+08</td>\n",
       "      <td>0</td>\n",
       "      <td>United States</td>\n",
       "      <td>1</td>\n",
       "      <td>1</td>\n",
       "      <td>1.0</td>\n",
       "      <td>41461</td>\n",
       "    </tr>\n",
       "  </tbody>\n",
       "</table>\n",
       "</div>"
      ],
      "text/plain": [
       "       id            cadastro              compra  valor id_dispositivo fonte  \\\n",
       "0   22058 2015-02-24 22:55:49 2015-04-18 02:47:11     34  QVPSPJUOCKZAR   SEO   \n",
       "1  333320 2015-06-07 20:39:50 2015-06-08 01:38:54     16  EOGFQPIZPYXFZ   Ads   \n",
       "2    1359 2015-01-01 18:52:44 2015-01-01 18:52:45     15  YSSKYOSJHPPLJ   SEO   \n",
       "3  150084 2015-04-28 21:13:25 2015-05-04 13:54:50     44  ATGTXKYKUDUQN   SEO   \n",
       "4  221365 2015-07-21 07:09:52 2015-09-09 18:40:53     39  NAUITBZFJKHWW   Ads   \n",
       "\n",
       "  browser genero  idade            ip  fraude           pais  users_by_device  \\\n",
       "0  Chrome      M     39  7.327584e+08       0          Japan                1   \n",
       "1  Chrome      F     53  3.503114e+08       0  United States                1   \n",
       "2   Opera      M     53  2.621474e+09       1  United States               12   \n",
       "3  Safari      M     41  3.840542e+09       0            NaN                1   \n",
       "4  Safari      M     45  4.155831e+08       0  United States                1   \n",
       "\n",
       "   user_by_ip  average_ids  time_between  \n",
       "0           1          1.0         13882  \n",
       "1           1          1.0         17944  \n",
       "2          12         12.0             1  \n",
       "3           1          1.0         60085  \n",
       "4           1          1.0         41461  "
      ]
     },
     "execution_count": 32,
     "metadata": {},
     "output_type": "execute_result"
    }
   ],
   "source": [
    "# transforming registration and purchase to be actual date/times\n",
    "fraud_df.cadastro = fraud_df.cadastro.apply(pd.to_datetime)\n",
    "fraud_df.compra = fraud_df.compra.apply(pd.to_datetime)\n",
    "\n",
    "# adding new feature for the amount of seconds between registration and purchase\n",
    "fraud_df['time_between'] = (fraud_df.compra - fraud_df.cadastro).apply(lambda x: x.seconds)\n",
    "fraud_df.head()"
   ]
  },
  {
   "cell_type": "code",
   "execution_count": 33,
   "metadata": {
    "ExecuteTime": {
     "end_time": "2020-08-18T18:04:51.589654Z",
     "start_time": "2020-08-18T18:04:51.353287Z"
    },
    "scrolled": true
   },
   "outputs": [
    {
     "data": {
      "text/html": [
       "<div>\n",
       "<style scoped>\n",
       "    .dataframe tbody tr th:only-of-type {\n",
       "        vertical-align: middle;\n",
       "    }\n",
       "\n",
       "    .dataframe tbody tr th {\n",
       "        vertical-align: top;\n",
       "    }\n",
       "\n",
       "    .dataframe thead th {\n",
       "        text-align: right;\n",
       "    }\n",
       "</style>\n",
       "<table border=\"1\" class=\"dataframe\">\n",
       "  <thead>\n",
       "    <tr style=\"text-align: right;\">\n",
       "      <th></th>\n",
       "      <th>id</th>\n",
       "      <th>cadastro</th>\n",
       "      <th>compra</th>\n",
       "      <th>valor</th>\n",
       "      <th>id_dispositivo</th>\n",
       "      <th>fonte</th>\n",
       "      <th>browser</th>\n",
       "      <th>genero</th>\n",
       "      <th>idade</th>\n",
       "      <th>ip</th>\n",
       "      <th>...</th>\n",
       "      <th>country__United States</th>\n",
       "      <th>country__Uruguay</th>\n",
       "      <th>country__Uzbekistan</th>\n",
       "      <th>country__Vanuatu</th>\n",
       "      <th>country__Venezuela</th>\n",
       "      <th>country__Viet Nam</th>\n",
       "      <th>country__Virgin Islands (U.S.)</th>\n",
       "      <th>country__Yemen</th>\n",
       "      <th>country__Zambia</th>\n",
       "      <th>country__Zimbabwe</th>\n",
       "    </tr>\n",
       "  </thead>\n",
       "  <tbody>\n",
       "    <tr>\n",
       "      <th>0</th>\n",
       "      <td>22058</td>\n",
       "      <td>2015-02-24 22:55:49</td>\n",
       "      <td>2015-04-18 02:47:11</td>\n",
       "      <td>34</td>\n",
       "      <td>QVPSPJUOCKZAR</td>\n",
       "      <td>SEO</td>\n",
       "      <td>Chrome</td>\n",
       "      <td>M</td>\n",
       "      <td>39</td>\n",
       "      <td>7.327584e+08</td>\n",
       "      <td>...</td>\n",
       "      <td>0</td>\n",
       "      <td>0</td>\n",
       "      <td>0</td>\n",
       "      <td>0</td>\n",
       "      <td>0</td>\n",
       "      <td>0</td>\n",
       "      <td>0</td>\n",
       "      <td>0</td>\n",
       "      <td>0</td>\n",
       "      <td>0</td>\n",
       "    </tr>\n",
       "    <tr>\n",
       "      <th>1</th>\n",
       "      <td>333320</td>\n",
       "      <td>2015-06-07 20:39:50</td>\n",
       "      <td>2015-06-08 01:38:54</td>\n",
       "      <td>16</td>\n",
       "      <td>EOGFQPIZPYXFZ</td>\n",
       "      <td>Ads</td>\n",
       "      <td>Chrome</td>\n",
       "      <td>F</td>\n",
       "      <td>53</td>\n",
       "      <td>3.503114e+08</td>\n",
       "      <td>...</td>\n",
       "      <td>1</td>\n",
       "      <td>0</td>\n",
       "      <td>0</td>\n",
       "      <td>0</td>\n",
       "      <td>0</td>\n",
       "      <td>0</td>\n",
       "      <td>0</td>\n",
       "      <td>0</td>\n",
       "      <td>0</td>\n",
       "      <td>0</td>\n",
       "    </tr>\n",
       "    <tr>\n",
       "      <th>2</th>\n",
       "      <td>1359</td>\n",
       "      <td>2015-01-01 18:52:44</td>\n",
       "      <td>2015-01-01 18:52:45</td>\n",
       "      <td>15</td>\n",
       "      <td>YSSKYOSJHPPLJ</td>\n",
       "      <td>SEO</td>\n",
       "      <td>Opera</td>\n",
       "      <td>M</td>\n",
       "      <td>53</td>\n",
       "      <td>2.621474e+09</td>\n",
       "      <td>...</td>\n",
       "      <td>1</td>\n",
       "      <td>0</td>\n",
       "      <td>0</td>\n",
       "      <td>0</td>\n",
       "      <td>0</td>\n",
       "      <td>0</td>\n",
       "      <td>0</td>\n",
       "      <td>0</td>\n",
       "      <td>0</td>\n",
       "      <td>0</td>\n",
       "    </tr>\n",
       "    <tr>\n",
       "      <th>3</th>\n",
       "      <td>150084</td>\n",
       "      <td>2015-04-28 21:13:25</td>\n",
       "      <td>2015-05-04 13:54:50</td>\n",
       "      <td>44</td>\n",
       "      <td>ATGTXKYKUDUQN</td>\n",
       "      <td>SEO</td>\n",
       "      <td>Safari</td>\n",
       "      <td>M</td>\n",
       "      <td>41</td>\n",
       "      <td>3.840542e+09</td>\n",
       "      <td>...</td>\n",
       "      <td>0</td>\n",
       "      <td>0</td>\n",
       "      <td>0</td>\n",
       "      <td>0</td>\n",
       "      <td>0</td>\n",
       "      <td>0</td>\n",
       "      <td>0</td>\n",
       "      <td>0</td>\n",
       "      <td>0</td>\n",
       "      <td>0</td>\n",
       "    </tr>\n",
       "    <tr>\n",
       "      <th>4</th>\n",
       "      <td>221365</td>\n",
       "      <td>2015-07-21 07:09:52</td>\n",
       "      <td>2015-09-09 18:40:53</td>\n",
       "      <td>39</td>\n",
       "      <td>NAUITBZFJKHWW</td>\n",
       "      <td>Ads</td>\n",
       "      <td>Safari</td>\n",
       "      <td>M</td>\n",
       "      <td>45</td>\n",
       "      <td>4.155831e+08</td>\n",
       "      <td>...</td>\n",
       "      <td>1</td>\n",
       "      <td>0</td>\n",
       "      <td>0</td>\n",
       "      <td>0</td>\n",
       "      <td>0</td>\n",
       "      <td>0</td>\n",
       "      <td>0</td>\n",
       "      <td>0</td>\n",
       "      <td>0</td>\n",
       "      <td>0</td>\n",
       "    </tr>\n",
       "  </tbody>\n",
       "</table>\n",
       "<p>5 rows × 197 columns</p>\n",
       "</div>"
      ],
      "text/plain": [
       "       id            cadastro              compra  valor id_dispositivo fonte  \\\n",
       "0   22058 2015-02-24 22:55:49 2015-04-18 02:47:11     34  QVPSPJUOCKZAR   SEO   \n",
       "1  333320 2015-06-07 20:39:50 2015-06-08 01:38:54     16  EOGFQPIZPYXFZ   Ads   \n",
       "2    1359 2015-01-01 18:52:44 2015-01-01 18:52:45     15  YSSKYOSJHPPLJ   SEO   \n",
       "3  150084 2015-04-28 21:13:25 2015-05-04 13:54:50     44  ATGTXKYKUDUQN   SEO   \n",
       "4  221365 2015-07-21 07:09:52 2015-09-09 18:40:53     39  NAUITBZFJKHWW   Ads   \n",
       "\n",
       "  browser genero  idade            ip  ...  country__United States  \\\n",
       "0  Chrome      M     39  7.327584e+08  ...                       0   \n",
       "1  Chrome      F     53  3.503114e+08  ...                       1   \n",
       "2   Opera      M     53  2.621474e+09  ...                       1   \n",
       "3  Safari      M     41  3.840542e+09  ...                       0   \n",
       "4  Safari      M     45  4.155831e+08  ...                       1   \n",
       "\n",
       "  country__Uruguay  country__Uzbekistan  country__Vanuatu  country__Venezuela  \\\n",
       "0                0                    0                 0                   0   \n",
       "1                0                    0                 0                   0   \n",
       "2                0                    0                 0                   0   \n",
       "3                0                    0                 0                   0   \n",
       "4                0                    0                 0                   0   \n",
       "\n",
       "   country__Viet Nam  country__Virgin Islands (U.S.)  country__Yemen  \\\n",
       "0                  0                               0               0   \n",
       "1                  0                               0               0   \n",
       "2                  0                               0               0   \n",
       "3                  0                               0               0   \n",
       "4                  0                               0               0   \n",
       "\n",
       "   country__Zambia  country__Zimbabwe  \n",
       "0                0                  0  \n",
       "1                0                  0  \n",
       "2                0                  0  \n",
       "3                0                  0  \n",
       "4                0                  0  \n",
       "\n",
       "[5 rows x 197 columns]"
      ]
     },
     "execution_count": 33,
     "metadata": {},
     "output_type": "execute_result"
    }
   ],
   "source": [
    "# transforming countries into a dummy variable\n",
    "\n",
    "country_dummy = pd.get_dummies(fraud_df.pais, prefix=\"country_\")\n",
    "fraud_df = pd.concat([fraud_df, country_dummy], axis=1)\n",
    "fraud_df.head()"
   ]
  },
  {
   "cell_type": "code",
   "execution_count": 34,
   "metadata": {
    "ExecuteTime": {
     "end_time": "2020-08-18T18:04:51.702353Z",
     "start_time": "2020-08-18T18:04:51.590652Z"
    },
    "scrolled": true
   },
   "outputs": [
    {
     "data": {
      "text/html": [
       "<div>\n",
       "<style scoped>\n",
       "    .dataframe tbody tr th:only-of-type {\n",
       "        vertical-align: middle;\n",
       "    }\n",
       "\n",
       "    .dataframe tbody tr th {\n",
       "        vertical-align: top;\n",
       "    }\n",
       "\n",
       "    .dataframe thead th {\n",
       "        text-align: right;\n",
       "    }\n",
       "</style>\n",
       "<table border=\"1\" class=\"dataframe\">\n",
       "  <thead>\n",
       "    <tr style=\"text-align: right;\">\n",
       "      <th></th>\n",
       "      <th>ip</th>\n",
       "      <th>fraude</th>\n",
       "      <th>average_ids</th>\n",
       "      <th>time_between</th>\n",
       "      <th>country__Afghanistan</th>\n",
       "      <th>country__Albania</th>\n",
       "      <th>country__Algeria</th>\n",
       "      <th>country__Angola</th>\n",
       "      <th>country__Antigua and Barbuda</th>\n",
       "      <th>country__Argentina</th>\n",
       "      <th>...</th>\n",
       "      <th>country__United States</th>\n",
       "      <th>country__Uruguay</th>\n",
       "      <th>country__Uzbekistan</th>\n",
       "      <th>country__Vanuatu</th>\n",
       "      <th>country__Venezuela</th>\n",
       "      <th>country__Viet Nam</th>\n",
       "      <th>country__Virgin Islands (U.S.)</th>\n",
       "      <th>country__Yemen</th>\n",
       "      <th>country__Zambia</th>\n",
       "      <th>country__Zimbabwe</th>\n",
       "    </tr>\n",
       "  </thead>\n",
       "  <tbody>\n",
       "    <tr>\n",
       "      <th>0</th>\n",
       "      <td>7.327584e+08</td>\n",
       "      <td>0</td>\n",
       "      <td>1.0</td>\n",
       "      <td>13882</td>\n",
       "      <td>0</td>\n",
       "      <td>0</td>\n",
       "      <td>0</td>\n",
       "      <td>0</td>\n",
       "      <td>0</td>\n",
       "      <td>0</td>\n",
       "      <td>...</td>\n",
       "      <td>0</td>\n",
       "      <td>0</td>\n",
       "      <td>0</td>\n",
       "      <td>0</td>\n",
       "      <td>0</td>\n",
       "      <td>0</td>\n",
       "      <td>0</td>\n",
       "      <td>0</td>\n",
       "      <td>0</td>\n",
       "      <td>0</td>\n",
       "    </tr>\n",
       "    <tr>\n",
       "      <th>1</th>\n",
       "      <td>3.503114e+08</td>\n",
       "      <td>0</td>\n",
       "      <td>1.0</td>\n",
       "      <td>17944</td>\n",
       "      <td>0</td>\n",
       "      <td>0</td>\n",
       "      <td>0</td>\n",
       "      <td>0</td>\n",
       "      <td>0</td>\n",
       "      <td>0</td>\n",
       "      <td>...</td>\n",
       "      <td>1</td>\n",
       "      <td>0</td>\n",
       "      <td>0</td>\n",
       "      <td>0</td>\n",
       "      <td>0</td>\n",
       "      <td>0</td>\n",
       "      <td>0</td>\n",
       "      <td>0</td>\n",
       "      <td>0</td>\n",
       "      <td>0</td>\n",
       "    </tr>\n",
       "    <tr>\n",
       "      <th>2</th>\n",
       "      <td>2.621474e+09</td>\n",
       "      <td>1</td>\n",
       "      <td>12.0</td>\n",
       "      <td>1</td>\n",
       "      <td>0</td>\n",
       "      <td>0</td>\n",
       "      <td>0</td>\n",
       "      <td>0</td>\n",
       "      <td>0</td>\n",
       "      <td>0</td>\n",
       "      <td>...</td>\n",
       "      <td>1</td>\n",
       "      <td>0</td>\n",
       "      <td>0</td>\n",
       "      <td>0</td>\n",
       "      <td>0</td>\n",
       "      <td>0</td>\n",
       "      <td>0</td>\n",
       "      <td>0</td>\n",
       "      <td>0</td>\n",
       "      <td>0</td>\n",
       "    </tr>\n",
       "    <tr>\n",
       "      <th>3</th>\n",
       "      <td>3.840542e+09</td>\n",
       "      <td>0</td>\n",
       "      <td>1.0</td>\n",
       "      <td>60085</td>\n",
       "      <td>0</td>\n",
       "      <td>0</td>\n",
       "      <td>0</td>\n",
       "      <td>0</td>\n",
       "      <td>0</td>\n",
       "      <td>0</td>\n",
       "      <td>...</td>\n",
       "      <td>0</td>\n",
       "      <td>0</td>\n",
       "      <td>0</td>\n",
       "      <td>0</td>\n",
       "      <td>0</td>\n",
       "      <td>0</td>\n",
       "      <td>0</td>\n",
       "      <td>0</td>\n",
       "      <td>0</td>\n",
       "      <td>0</td>\n",
       "    </tr>\n",
       "    <tr>\n",
       "      <th>4</th>\n",
       "      <td>4.155831e+08</td>\n",
       "      <td>0</td>\n",
       "      <td>1.0</td>\n",
       "      <td>41461</td>\n",
       "      <td>0</td>\n",
       "      <td>0</td>\n",
       "      <td>0</td>\n",
       "      <td>0</td>\n",
       "      <td>0</td>\n",
       "      <td>0</td>\n",
       "      <td>...</td>\n",
       "      <td>1</td>\n",
       "      <td>0</td>\n",
       "      <td>0</td>\n",
       "      <td>0</td>\n",
       "      <td>0</td>\n",
       "      <td>0</td>\n",
       "      <td>0</td>\n",
       "      <td>0</td>\n",
       "      <td>0</td>\n",
       "      <td>0</td>\n",
       "    </tr>\n",
       "  </tbody>\n",
       "</table>\n",
       "<p>5 rows × 185 columns</p>\n",
       "</div>"
      ],
      "text/plain": [
       "             ip  fraude  average_ids  time_between  country__Afghanistan  \\\n",
       "0  7.327584e+08       0          1.0         13882                     0   \n",
       "1  3.503114e+08       0          1.0         17944                     0   \n",
       "2  2.621474e+09       1         12.0             1                     0   \n",
       "3  3.840542e+09       0          1.0         60085                     0   \n",
       "4  4.155831e+08       0          1.0         41461                     0   \n",
       "\n",
       "   country__Albania  country__Algeria  country__Angola  \\\n",
       "0                 0                 0                0   \n",
       "1                 0                 0                0   \n",
       "2                 0                 0                0   \n",
       "3                 0                 0                0   \n",
       "4                 0                 0                0   \n",
       "\n",
       "   country__Antigua and Barbuda  country__Argentina  ...  \\\n",
       "0                             0                   0  ...   \n",
       "1                             0                   0  ...   \n",
       "2                             0                   0  ...   \n",
       "3                             0                   0  ...   \n",
       "4                             0                   0  ...   \n",
       "\n",
       "   country__United States  country__Uruguay  country__Uzbekistan  \\\n",
       "0                       0                 0                    0   \n",
       "1                       1                 0                    0   \n",
       "2                       1                 0                    0   \n",
       "3                       0                 0                    0   \n",
       "4                       1                 0                    0   \n",
       "\n",
       "   country__Vanuatu  country__Venezuela  country__Viet Nam  \\\n",
       "0                 0                   0                  0   \n",
       "1                 0                   0                  0   \n",
       "2                 0                   0                  0   \n",
       "3                 0                   0                  0   \n",
       "4                 0                   0                  0   \n",
       "\n",
       "   country__Virgin Islands (U.S.)  country__Yemen  country__Zambia  \\\n",
       "0                               0               0                0   \n",
       "1                               0               0                0   \n",
       "2                               0               0                0   \n",
       "3                               0               0                0   \n",
       "4                               0               0                0   \n",
       "\n",
       "   country__Zimbabwe  \n",
       "0                  0  \n",
       "1                  0  \n",
       "2                  0  \n",
       "3                  0  \n",
       "4                  0  \n",
       "\n",
       "[5 rows x 185 columns]"
      ]
     },
     "execution_count": 34,
     "metadata": {},
     "output_type": "execute_result"
    }
   ],
   "source": [
    "# removing irrelevant columns for performance\n",
    "\n",
    "fraud_df.drop([\"id\",\n",
    "              \"cadastro\",\n",
    "              \"compra\",\n",
    "              \"id_dispositivo\",\n",
    "              \"users_by_device\",\n",
    "              \"user_by_ip\",\n",
    "              \"pais\",\n",
    "              \"fonte\",\n",
    "              \"browser\",\n",
    "              \"genero\",\n",
    "              \"idade\",\n",
    "              \"valor\"], axis=1, inplace=True)\n",
    "\n",
    "fraud_df.head()"
   ]
  },
  {
   "cell_type": "code",
   "execution_count": 35,
   "metadata": {
    "ExecuteTime": {
     "end_time": "2020-08-18T18:04:51.874892Z",
     "start_time": "2020-08-18T18:04:51.703350Z"
    }
   },
   "outputs": [
    {
     "name": "stderr",
     "output_type": "stream",
     "text": [
      "D:\\Anaconda\\lib\\site-packages\\pandas\\plotting\\_matplotlib\\hist.py:309: MatplotlibDeprecationWarning: \n",
      "The 'normed' kwarg was deprecated in Matplotlib 2.1 and will be removed in 3.1. Use 'density' instead.\n",
      "  ax.hist(values, bins=bins, **kwds)\n"
     ]
    },
    {
     "data": {
      "text/plain": [
       "Text(0, 0.5, 'Normalized count')"
      ]
     },
     "execution_count": 35,
     "metadata": {},
     "output_type": "execute_result"
    },
    {
     "data": {
      "image/png": "[encoded data removed]",
      "text/plain": [
       "<Figure size 432x288 with 1 Axes>"
      ]
     },
     "metadata": {
      "needs_background": "light"
     },
     "output_type": "display_data"
    }
   ],
   "source": [
    "# checking the features to see if they behave in a Gaussian manner\n",
    "\n",
    "fraud_df[fraud_df[\"fraude\"] == 1].average_ids.hist(normed=True,bins=25)\n",
    "plt.xlabel(\"Average number of IDs\", fontsize=15)\n",
    "plt.ylabel(\"Normalized count\", fontsize=15)"
   ]
  },
  {
   "cell_type": "code",
   "execution_count": 36,
   "metadata": {
    "ExecuteTime": {
     "end_time": "2020-08-18T18:04:52.017510Z",
     "start_time": "2020-08-18T18:04:51.875889Z"
    }
   },
   "outputs": [
    {
     "data": {
      "text/plain": [
       "Text(0, 0.5, 'Normalized count')"
      ]
     },
     "execution_count": 36,
     "metadata": {},
     "output_type": "execute_result"
    },
    {
     "data": {
      "image/png": "[encoded data removed]",
      "text/plain": [
       "<Figure size 432x288 with 1 Axes>"
      ]
     },
     "metadata": {
      "needs_background": "light"
     },
     "output_type": "display_data"
    }
   ],
   "source": [
    "# the average number of IDs behaves such way, and is bi-modal\n",
    "# replicating the same analysis for the time between registration and purchase\n",
    "\n",
    "fraud_df.time_between.hist(normed=True, bins=25)\n",
    "plt.xlabel(\"Time between registration and purchase in seconds\", fontsize=15)\n",
    "plt.ylabel(\"Normalized count\", fontsize=15)"
   ]
  },
  {
   "cell_type": "code",
   "execution_count": 37,
   "metadata": {
    "ExecuteTime": {
     "end_time": "2020-08-18T18:04:52.022497Z",
     "start_time": "2020-08-18T18:04:52.018507Z"
    }
   },
   "outputs": [],
   "source": [
    "# aside from time between 0-1 seconds (approximately), the distribution is pretty much flat\n",
    "# defining a function to mathematically transform the series into a normal distribution\n",
    "\n",
    "def rescale_series(series):\n",
    "    series_minimum = series.min() - 1e-5\n",
    "    series_maximum = series.max() + 1e-5\n",
    "    new_series = (series - series_minimum) / (series_maximum - series_minimum)\n",
    "    new_series = new_series.apply(lambda x: np.sqrt(2) * special.erfinv(2*x - 1))\n",
    "    return new_series"
   ]
  },
  {
   "cell_type": "code",
   "execution_count": 38,
   "metadata": {
    "ExecuteTime": {
     "end_time": "2020-08-18T18:04:52.810390Z",
     "start_time": "2020-08-18T18:04:52.023494Z"
    }
   },
   "outputs": [
    {
     "data": {
      "text/plain": [
       "Text(0, 0.5, 'Normalized count')"
      ]
     },
     "execution_count": 38,
     "metadata": {},
     "output_type": "execute_result"
    },
    {
     "data": {
      "image/png": "[encoded data removed]",
      "text/plain": [
       "<Figure size 432x288 with 1 Axes>"
      ]
     },
     "metadata": {
      "needs_background": "light"
     },
     "output_type": "display_data"
    }
   ],
   "source": [
    "# applying function to the time between variable\n",
    "\n",
    "fraud_df[\"time_between\"] = rescale_series(fraud_df.time_between)\n",
    "fraud_df.time_between.hist(normed=True, bins=25)\n",
    "plt.xlabel(\"Time between registration and purchase in seconds\", fontsize=15)\n",
    "plt.ylabel(\"Normalized count\", fontsize=15)"
   ]
  },
  {
   "cell_type": "code",
   "execution_count": 39,
   "metadata": {
    "ExecuteTime": {
     "end_time": "2020-08-18T18:04:52.815376Z",
     "start_time": "2020-08-18T18:04:52.811387Z"
    }
   },
   "outputs": [],
   "source": [
    "# defining function for scaling the entire dataset, with exception of boolean values\n",
    "\n",
    "def rescale_feature(column):\n",
    "    column_minimum = column.min() - 1e-5\n",
    "    column_maximum = column.max() + 1e-5\n",
    "    new_series = (column - column_minimum) / (column_maximum - column_minimum)\n",
    "    return new_series"
   ]
  },
  {
   "cell_type": "code",
   "execution_count": 40,
   "metadata": {
    "ExecuteTime": {
     "end_time": "2020-08-18T18:04:52.871229Z",
     "start_time": "2020-08-18T18:04:52.816374Z"
    }
   },
   "outputs": [],
   "source": [
    "# applying the scaling\n",
    "\n",
    "onehotencoded = [feature for feature in fraud_df.columns if 'country' not in feature and feature != 'fraude']\n",
    "\n",
    "for column in onehotencoded:\n",
    "    fraud_df[column] = rescale_feature(fraud_df[column])\n",
    "\n",
    "X = fraud_df[ [column for column in fraud_df.columns if column != 'fraude'] ]\n",
    "y = fraud_df['fraude']"
   ]
  },
  {
   "cell_type": "code",
   "execution_count": 41,
   "metadata": {
    "ExecuteTime": {
     "end_time": "2020-08-18T18:04:56.519472Z",
     "start_time": "2020-08-18T18:04:52.872224Z"
    }
   },
   "outputs": [],
   "source": [
    "# exporting X and y to external files for future usage\n",
    "\n",
    "X.to_csv('X.csv', index=False)\n",
    "y.to_csv('y.csv', index=False)"
   ]
  },
  {
   "cell_type": "code",
   "execution_count": 42,
   "metadata": {
    "ExecuteTime": {
     "end_time": "2020-08-18T18:04:58.436343Z",
     "start_time": "2020-08-18T18:04:56.520467Z"
    }
   },
   "outputs": [],
   "source": [
    "# importing library from sklearn\n",
    "from sklearn.ensemble import ExtraTreesClassifier"
   ]
  },
  {
   "cell_type": "code",
   "execution_count": 43,
   "metadata": {
    "ExecuteTime": {
     "end_time": "2020-08-18T18:06:08.323435Z",
     "start_time": "2020-08-18T18:04:58.437341Z"
    }
   },
   "outputs": [
    {
     "data": {
      "text/html": [
       "<div>\n",
       "<style scoped>\n",
       "    .dataframe tbody tr th:only-of-type {\n",
       "        vertical-align: middle;\n",
       "    }\n",
       "\n",
       "    .dataframe tbody tr th {\n",
       "        vertical-align: top;\n",
       "    }\n",
       "\n",
       "    .dataframe thead th {\n",
       "        text-align: right;\n",
       "    }\n",
       "</style>\n",
       "<table border=\"1\" class=\"dataframe\">\n",
       "  <thead>\n",
       "    <tr style=\"text-align: right;\">\n",
       "      <th></th>\n",
       "      <th>feature</th>\n",
       "      <th>feature_importance</th>\n",
       "    </tr>\n",
       "  </thead>\n",
       "  <tbody>\n",
       "    <tr>\n",
       "      <th>2</th>\n",
       "      <td>time_between</td>\n",
       "      <td>0.498302</td>\n",
       "    </tr>\n",
       "    <tr>\n",
       "      <th>1</th>\n",
       "      <td>average_ids</td>\n",
       "      <td>0.273246</td>\n",
       "    </tr>\n",
       "    <tr>\n",
       "      <th>0</th>\n",
       "      <td>ip</td>\n",
       "      <td>0.221068</td>\n",
       "    </tr>\n",
       "  </tbody>\n",
       "</table>\n",
       "</div>"
      ],
      "text/plain": [
       "        feature  feature_importance\n",
       "2  time_between            0.498302\n",
       "1   average_ids            0.273246\n",
       "0            ip            0.221068"
      ]
     },
     "execution_count": 43,
     "metadata": {},
     "output_type": "execute_result"
    }
   ],
   "source": [
    "# fitting the features\n",
    "\n",
    "clf = ExtraTreesClassifier()\n",
    "_ = clf.fit(X, y)\n",
    "\n",
    "# organizing features by importance\n",
    "features = pd.DataFrame()\n",
    "features['feature'] = X.columns\n",
    "features['feature_importance'] = clf.feature_importances_\n",
    "\n",
    "features[features.feature_importance > np.mean(features.feature_importance)].sort_values(by=\"feature_importance\", ascending=False)"
   ]
  },
  {
   "cell_type": "markdown",
   "metadata": {},
   "source": [
    "***\n",
    "\n",
    "## 4. Predictive Modeling"
   ]
  },
  {
   "cell_type": "code",
   "execution_count": 44,
   "metadata": {
    "ExecuteTime": {
     "end_time": "2020-08-18T18:06:08.328422Z",
     "start_time": "2020-08-18T18:06:08.324433Z"
    }
   },
   "outputs": [],
   "source": [
    "# importing machine learning libraries\n",
    "\n",
    "from sklearn.preprocessing import RobustScaler\n",
    "from sklearn.model_selection import train_test_split\n",
    "from sklearn.ensemble import IsolationForest\n",
    "from sklearn.model_selection import GridSearchCV\n",
    "from sklearn.metrics import classification_report, roc_auc_score, roc_curve\n",
    "from sklearn.metrics import f1_score"
   ]
  },
  {
   "cell_type": "code",
   "execution_count": 45,
   "metadata": {
    "ExecuteTime": {
     "end_time": "2020-08-18T18:06:08.459074Z",
     "start_time": "2020-08-18T18:06:08.329419Z"
    }
   },
   "outputs": [],
   "source": [
    "# Making the splits\n",
    "\n",
    "X_train, X_test, y_train, y_test = train_test_split(X, y, train_size = 0.75, random_state=42)\n",
    "y_train = y_train.apply(lambda x: 1 if x == 0 else -1)\n",
    "y_test = y_test.apply(lambda x: 1 if x == 0 else -1)"
   ]
  },
  {
   "cell_type": "code",
   "execution_count": 46,
   "metadata": {
    "ExecuteTime": {
     "end_time": "2020-08-18T18:27:19.668876Z",
     "start_time": "2020-08-18T18:06:08.460069Z"
    },
    "scrolled": true
   },
   "outputs": [
    {
     "name": "stdout",
     "output_type": "stream",
     "text": [
      "Fitting 5 folds for each of 9 candidates, totalling 45 fits\n"
     ]
    },
    {
     "name": "stderr",
     "output_type": "stream",
     "text": [
      "[Parallel(n_jobs=10)]: Using backend LokyBackend with 10 concurrent workers.\n",
      "[Parallel(n_jobs=10)]: Done   5 tasks      | elapsed:  1.4min\n",
      "[Parallel(n_jobs=10)]: Done  12 tasks      | elapsed:  4.1min\n",
      "[Parallel(n_jobs=10)]: Done  21 tasks      | elapsed:  8.2min\n",
      "[Parallel(n_jobs=10)]: Done  31 out of  45 | elapsed: 14.0min remaining:  6.3min\n",
      "[Parallel(n_jobs=10)]: Done  36 out of  45 | elapsed: 16.8min remaining:  4.2min\n",
      "[Parallel(n_jobs=10)]: Done  41 out of  45 | elapsed: 18.9min remaining:  1.8min\n",
      "[Parallel(n_jobs=10)]: Done  45 out of  45 | elapsed: 18.9min finished\n"
     ]
    }
   ],
   "source": [
    "# Setting the parameters\n",
    "\n",
    "IF = IsolationForest(max_samples=\"auto\", contamination=0.095, random_state=42)\n",
    "parameter_grid = {\"n_estimators\": [100, 150, 200, 250, 300, 350, 400, 450, 500]}\n",
    "clf = GridSearchCV(IF,\n",
    "                  parameter_grid,\n",
    "                  cv=5,\n",
    "                  n_jobs=10,\n",
    "                   scoring='f1',\n",
    "                   verbose=10\n",
    "                  )\n",
    "\n",
    "_ = clf.fit(X_train, y_train)"
   ]
  },
  {
   "cell_type": "code",
   "execution_count": 47,
   "metadata": {
    "ExecuteTime": {
     "end_time": "2020-08-18T18:28:08.101292Z",
     "start_time": "2020-08-18T18:27:19.669874Z"
    },
    "scrolled": true
   },
   "outputs": [
    {
     "name": "stdout",
     "output_type": "stream",
     "text": [
      "              precision    recall  f1-score   support\n",
      "\n",
      "   anomalous       0.51      0.51      0.51      3563\n",
      "      normal       0.95      0.95      0.95     34215\n",
      "\n",
      "    accuracy                           0.91     37778\n",
      "   macro avg       0.73      0.73      0.73     37778\n",
      "weighted avg       0.91      0.91      0.91     37778\n",
      "\n",
      "Area under the curve: 0.732\n"
     ]
    },
    {
     "data": {
      "image/png": "[encoded data removed]",
      "text/plain": [
       "<Figure size 432x288 with 1 Axes>"
      ]
     },
     "metadata": {
      "needs_background": "light"
     },
     "output_type": "display_data"
    }
   ],
   "source": [
    "# setting up the prediction\n",
    "\n",
    "IF_best = clf.best_estimator_\n",
    "y_pred = IF_best.predict(X_test)\n",
    "roc_auc = roc_auc_score(y_test, y_pred)\n",
    "print(classification_report(y_test, y_pred, target_names=[\"anomalous\", \"normal\"]))\n",
    "print(\"Area under the curve: {:0.3f}\".format(roc_auc))\n",
    "\n",
    "IF_probabilities = IF_best.decision_function(X_test)\n",
    "fpr, tpr, threshold = roc_curve(y_test, IF_probabilities)\n",
    "\n",
    "plt.plot(fpr, tpr, lw=1)\n",
    "plt.plot([0,1],[0,1],'--',color=(0.6, 0.6, 0.6), label=\"sheer luck\")\n",
    "plt.xlim([-0.05,1.05])\n",
    "plt.ylim([-0.05,1.05])\n",
    "\n",
    "plt.xlabel(\"False positive rate\", fontsize=15)\n",
    "plt.ylabel(\"True positive rate\", fontsize=15)\n",
    "plt.title(\"ROC curve\", fontsize=12)\n",
    "plt.show()"
   ]
  },
  {
   "cell_type": "code",
   "execution_count": 48,
   "metadata": {
    "ExecuteTime": {
     "end_time": "2020-08-18T18:28:08.106279Z",
     "start_time": "2020-08-18T18:28:08.102289Z"
    }
   },
   "outputs": [],
   "source": [
    "# checking the confusion matrix\n",
    "\n",
    "from sklearn.metrics import confusion_matrix"
   ]
  },
  {
   "cell_type": "code",
   "execution_count": 49,
   "metadata": {
    "ExecuteTime": {
     "end_time": "2020-08-18T18:28:08.195041Z",
     "start_time": "2020-08-18T18:28:08.107276Z"
    }
   },
   "outputs": [
    {
     "name": "stdout",
     "output_type": "stream",
     "text": [
      "[[ 1833  1730]\n",
      " [ 1756 32459]]\n"
     ]
    }
   ],
   "source": [
    "cnf_matrix_IF = confusion_matrix(y_test, y_pred)\n",
    "print(cnf_matrix_IF)"
   ]
  },
  {
   "cell_type": "code",
   "execution_count": 50,
   "metadata": {
    "ExecuteTime": {
     "end_time": "2020-08-18T18:28:08.200028Z",
     "start_time": "2020-08-18T18:28:08.197035Z"
    }
   },
   "outputs": [],
   "source": [
    "# the point of the model is to bring down the false negatives, checking if better scores are achieved with unsupervised models"
   ]
  }
 ],
 "metadata": {
  "kernelspec": {
   "display_name": "Python 3.7.6 64-bit ('base': conda)",
   "language": "python",
   "name": "python37664bitbasecondafa793547d4184c1c8495eab5181f4ddb"
  },
  "language_info": {
   "codemirror_mode": {
    "name": "ipython",
    "version": 3
   },
   "file_extension": ".py",
   "mimetype": "text/x-python",
   "name": "python",
   "nbconvert_exporter": "python",
   "pygments_lexer": "ipython3",
   "version": "3.7.6"
  },
  "varInspector": {
   "cols": {
    "lenName": 16,
    "lenType": 16,
    "lenVar": 40
   },
   "kernels_config": {
    "python": {
     "delete_cmd_postfix": "",
     "delete_cmd_prefix": "del ",
     "library": "var_list.py",
     "varRefreshCmd": "print(var_dic_list())"
    },
    "r": {
     "delete_cmd_postfix": ") ",
     "delete_cmd_prefix": "rm(",
     "library": "var_list.r",
     "varRefreshCmd": "cat(var_dic_list()) "
    }
   },
   "types_to_exclude": [
    "module",
    "function",
    "builtin_function_or_method",
    "instance",
    "_Feature"
   ],
   "window_display": false
  }
 },
 "nbformat": 4,
 "nbformat_minor": 2
}
