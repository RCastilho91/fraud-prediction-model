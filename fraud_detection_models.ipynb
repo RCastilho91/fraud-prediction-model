{
 "cells": [
  {
   "cell_type": "markdown",
   "metadata": {},
   "source": [
    "# Fraud Detection Models\n",
    "\n",
    "This notebook aims to create a prediction of fraudulent purchasing in an e-commerce through both supervised and unsupervised machine learning modeling using data composed of devices and IP addresses, along with demographics used in both fraudulent and legitimate purchases."
   ]
  },
  {
   "cell_type": "markdown",
   "metadata": {},
   "source": [
    "***\n",
    "\n",
    "## 1. Data Cleaning"
   ]
  },
  {
   "cell_type": "code",
   "execution_count": 1,
   "metadata": {
    "ExecuteTime": {
     "end_time": "2020-08-14T07:55:58.882249Z",
     "start_time": "2020-08-14T07:55:53.429543Z"
    }
   },
   "outputs": [],
   "source": [
    "# importing necessary libraries and modules\n",
    "\n",
    "import numpy as np\n",
    "import pandas as pd\n",
    "import itertools\n",
    "\n",
    "from scipy import special\n",
    "from datetime import timedelta\n",
    "from IPython.display import display"
   ]
  },
  {
   "cell_type": "code",
   "execution_count": 2,
   "metadata": {
    "ExecuteTime": {
     "end_time": "2020-08-14T07:55:59.427380Z",
     "start_time": "2020-08-14T07:55:58.882249Z"
    }
   },
   "outputs": [],
   "source": [
    "# reading necessary data\n",
    "fraud_df = pd.read_csv('Fraud_Data.csv',header=0)\n",
    "ISP_df = pd.read_csv('IpAddress_to_Country.csv',header=0)"
   ]
  },
  {
   "cell_type": "code",
   "execution_count": 3,
   "metadata": {
    "ExecuteTime": {
     "end_time": "2020-08-14T07:55:59.463526Z",
     "start_time": "2020-08-14T07:55:59.427380Z"
    }
   },
   "outputs": [
    {
     "data": {
      "text/plain": [
       "id                  int64\n",
       "cadastro           object\n",
       "compra             object\n",
       "valor               int64\n",
       "id_dispositivo     object\n",
       "fonte              object\n",
       "browser            object\n",
       "genero             object\n",
       "idade               int64\n",
       "ip                float64\n",
       "fraude              int64\n",
       "dtype: object"
      ]
     },
     "execution_count": 3,
     "metadata": {},
     "output_type": "execute_result"
    }
   ],
   "source": [
    "# checking out the data types for the fraud dataset\n",
    "fraud_df.dtypes"
   ]
  },
  {
   "cell_type": "code",
   "execution_count": 4,
   "metadata": {
    "ExecuteTime": {
     "end_time": "2020-08-14T07:55:59.527355Z",
     "start_time": "2020-08-14T07:55:59.464523Z"
    }
   },
   "outputs": [
    {
     "name": "stdout",
     "output_type": "stream",
     "text": [
      "Null values in id: 0\n",
      "Null values in cadastro: 0\n",
      "Null values in compra: 0\n",
      "Null values in valor: 0\n",
      "Null values in id_dispositivo: 0\n",
      "Null values in fonte: 0\n",
      "Null values in browser: 0\n",
      "Null values in genero: 0\n",
      "Null values in idade: 0\n",
      "Null values in ip: 0\n",
      "Null values in fraude: 0\n"
     ]
    }
   ],
   "source": [
    "# checking for null values for the fraud dataset\n",
    "for col in fraud_df.columns:\n",
    "    print('Null values in {}: {}'.format(col, fraud_df[col].isnull().sum()))"
   ]
  },
  {
   "cell_type": "code",
   "execution_count": 5,
   "metadata": {
    "ExecuteTime": {
     "end_time": "2020-08-14T07:55:59.590439Z",
     "start_time": "2020-08-14T07:55:59.528353Z"
    }
   },
   "outputs": [
    {
     "data": {
      "text/html": [
       "<div>\n",
       "<style scoped>\n",
       "    .dataframe tbody tr th:only-of-type {\n",
       "        vertical-align: middle;\n",
       "    }\n",
       "\n",
       "    .dataframe tbody tr th {\n",
       "        vertical-align: top;\n",
       "    }\n",
       "\n",
       "    .dataframe thead th {\n",
       "        text-align: right;\n",
       "    }\n",
       "</style>\n",
       "<table border=\"1\" class=\"dataframe\">\n",
       "  <thead>\n",
       "    <tr style=\"text-align: right;\">\n",
       "      <th></th>\n",
       "      <th>id</th>\n",
       "      <th>valor</th>\n",
       "      <th>idade</th>\n",
       "      <th>ip</th>\n",
       "      <th>fraude</th>\n",
       "    </tr>\n",
       "  </thead>\n",
       "  <tbody>\n",
       "    <tr>\n",
       "      <th>count</th>\n",
       "      <td>151112.000000</td>\n",
       "      <td>151112.000000</td>\n",
       "      <td>151112.000000</td>\n",
       "      <td>1.511120e+05</td>\n",
       "      <td>151112.000000</td>\n",
       "    </tr>\n",
       "    <tr>\n",
       "      <th>mean</th>\n",
       "      <td>200171.040970</td>\n",
       "      <td>36.935372</td>\n",
       "      <td>33.140704</td>\n",
       "      <td>2.152145e+09</td>\n",
       "      <td>0.093646</td>\n",
       "    </tr>\n",
       "    <tr>\n",
       "      <th>std</th>\n",
       "      <td>115369.285024</td>\n",
       "      <td>18.322762</td>\n",
       "      <td>8.617733</td>\n",
       "      <td>1.248497e+09</td>\n",
       "      <td>0.291336</td>\n",
       "    </tr>\n",
       "    <tr>\n",
       "      <th>min</th>\n",
       "      <td>2.000000</td>\n",
       "      <td>9.000000</td>\n",
       "      <td>18.000000</td>\n",
       "      <td>5.209350e+04</td>\n",
       "      <td>0.000000</td>\n",
       "    </tr>\n",
       "    <tr>\n",
       "      <th>25%</th>\n",
       "      <td>100642.500000</td>\n",
       "      <td>22.000000</td>\n",
       "      <td>27.000000</td>\n",
       "      <td>1.085934e+09</td>\n",
       "      <td>0.000000</td>\n",
       "    </tr>\n",
       "    <tr>\n",
       "      <th>50%</th>\n",
       "      <td>199958.000000</td>\n",
       "      <td>35.000000</td>\n",
       "      <td>33.000000</td>\n",
       "      <td>2.154770e+09</td>\n",
       "      <td>0.000000</td>\n",
       "    </tr>\n",
       "    <tr>\n",
       "      <th>75%</th>\n",
       "      <td>300054.000000</td>\n",
       "      <td>49.000000</td>\n",
       "      <td>39.000000</td>\n",
       "      <td>3.243258e+09</td>\n",
       "      <td>0.000000</td>\n",
       "    </tr>\n",
       "    <tr>\n",
       "      <th>max</th>\n",
       "      <td>400000.000000</td>\n",
       "      <td>154.000000</td>\n",
       "      <td>76.000000</td>\n",
       "      <td>4.294850e+09</td>\n",
       "      <td>1.000000</td>\n",
       "    </tr>\n",
       "  </tbody>\n",
       "</table>\n",
       "</div>"
      ],
      "text/plain": [
       "                  id          valor          idade            ip  \\\n",
       "count  151112.000000  151112.000000  151112.000000  1.511120e+05   \n",
       "mean   200171.040970      36.935372      33.140704  2.152145e+09   \n",
       "std    115369.285024      18.322762       8.617733  1.248497e+09   \n",
       "min         2.000000       9.000000      18.000000  5.209350e+04   \n",
       "25%    100642.500000      22.000000      27.000000  1.085934e+09   \n",
       "50%    199958.000000      35.000000      33.000000  2.154770e+09   \n",
       "75%    300054.000000      49.000000      39.000000  3.243258e+09   \n",
       "max    400000.000000     154.000000      76.000000  4.294850e+09   \n",
       "\n",
       "              fraude  \n",
       "count  151112.000000  \n",
       "mean        0.093646  \n",
       "std         0.291336  \n",
       "min         0.000000  \n",
       "25%         0.000000  \n",
       "50%         0.000000  \n",
       "75%         0.000000  \n",
       "max         1.000000  "
      ]
     },
     "execution_count": 5,
     "metadata": {},
     "output_type": "execute_result"
    }
   ],
   "source": [
    "# describing the fraud dataset for the fraud dataset\n",
    "fraud_df.describe()"
   ]
  },
  {
   "cell_type": "code",
   "execution_count": 6,
   "metadata": {
    "ExecuteTime": {
     "end_time": "2020-08-14T07:55:59.596422Z",
     "start_time": "2020-08-14T07:55:59.591436Z"
    }
   },
   "outputs": [
    {
     "data": {
      "text/plain": [
       "limite_inferior_ip    float64\n",
       "limite_superior_ip      int64\n",
       "pais                   object\n",
       "dtype: object"
      ]
     },
     "execution_count": 6,
     "metadata": {},
     "output_type": "execute_result"
    }
   ],
   "source": [
    "# checking out the data types for the IP dataset\n",
    "ISP_df.dtypes"
   ]
  },
  {
   "cell_type": "code",
   "execution_count": 7,
   "metadata": {
    "ExecuteTime": {
     "end_time": "2020-08-14T07:55:59.605400Z",
     "start_time": "2020-08-14T07:55:59.598418Z"
    }
   },
   "outputs": [
    {
     "data": {
      "text/html": [
       "<div>\n",
       "<style scoped>\n",
       "    .dataframe tbody tr th:only-of-type {\n",
       "        vertical-align: middle;\n",
       "    }\n",
       "\n",
       "    .dataframe tbody tr th {\n",
       "        vertical-align: top;\n",
       "    }\n",
       "\n",
       "    .dataframe thead th {\n",
       "        text-align: right;\n",
       "    }\n",
       "</style>\n",
       "<table border=\"1\" class=\"dataframe\">\n",
       "  <thead>\n",
       "    <tr style=\"text-align: right;\">\n",
       "      <th></th>\n",
       "      <th>limite_inferior_ip</th>\n",
       "      <th>limite_superior_ip</th>\n",
       "      <th>pais</th>\n",
       "    </tr>\n",
       "  </thead>\n",
       "  <tbody>\n",
       "    <tr>\n",
       "      <th>0</th>\n",
       "      <td>16777216.0</td>\n",
       "      <td>16777471</td>\n",
       "      <td>Australia</td>\n",
       "    </tr>\n",
       "    <tr>\n",
       "      <th>1</th>\n",
       "      <td>16777472.0</td>\n",
       "      <td>16777727</td>\n",
       "      <td>China</td>\n",
       "    </tr>\n",
       "    <tr>\n",
       "      <th>2</th>\n",
       "      <td>16777728.0</td>\n",
       "      <td>16778239</td>\n",
       "      <td>China</td>\n",
       "    </tr>\n",
       "    <tr>\n",
       "      <th>3</th>\n",
       "      <td>16778240.0</td>\n",
       "      <td>16779263</td>\n",
       "      <td>Australia</td>\n",
       "    </tr>\n",
       "    <tr>\n",
       "      <th>4</th>\n",
       "      <td>16779264.0</td>\n",
       "      <td>16781311</td>\n",
       "      <td>China</td>\n",
       "    </tr>\n",
       "  </tbody>\n",
       "</table>\n",
       "</div>"
      ],
      "text/plain": [
       "   limite_inferior_ip  limite_superior_ip       pais\n",
       "0          16777216.0            16777471  Australia\n",
       "1          16777472.0            16777727      China\n",
       "2          16777728.0            16778239      China\n",
       "3          16778240.0            16779263  Australia\n",
       "4          16779264.0            16781311      China"
      ]
     },
     "execution_count": 7,
     "metadata": {},
     "output_type": "execute_result"
    }
   ],
   "source": [
    "ISP_df.head()"
   ]
  },
  {
   "cell_type": "code",
   "execution_count": 8,
   "metadata": {
    "ExecuteTime": {
     "end_time": "2020-08-14T07:55:59.644295Z",
     "start_time": "2020-08-14T07:55:59.607394Z"
    },
    "scrolled": true
   },
   "outputs": [
    {
     "name": "stdout",
     "output_type": "stream",
     "text": [
      "Non-zero decimals in lower IP limits: 0\n"
     ]
    }
   ],
   "source": [
    "# upper and lower IP limits are in different data types.\n",
    "# checking whether that was merely a dot by the end.\n",
    "\n",
    "ip_floats = ISP_df.limite_inferior_ip.apply(lambda x: not x.is_integer()).sum()\n",
    "print('Non-zero decimals in lower IP limits: {}'.format(ip_floats))"
   ]
  },
  {
   "cell_type": "code",
   "execution_count": 9,
   "metadata": {
    "ExecuteTime": {
     "end_time": "2020-08-14T07:55:59.652273Z",
     "start_time": "2020-08-14T07:55:59.645292Z"
    }
   },
   "outputs": [
    {
     "data": {
      "text/plain": [
       "limite_inferior_ip    float64\n",
       "limite_superior_ip    float64\n",
       "pais                   object\n",
       "dtype: object"
      ]
     },
     "execution_count": 9,
     "metadata": {},
     "output_type": "execute_result"
    }
   ],
   "source": [
    "# turning upper IP limit to a float64 so there'll be no errors in comparing the two datasets\n",
    "ISP_df.limite_superior_ip = ISP_df.limite_superior_ip.astype(np.float64)\n",
    "ISP_df.dtypes"
   ]
  },
  {
   "cell_type": "code",
   "execution_count": 10,
   "metadata": {
    "ExecuteTime": {
     "end_time": "2020-08-14T07:55:59.664241Z",
     "start_time": "2020-08-14T07:55:59.653271Z"
    },
    "scrolled": true
   },
   "outputs": [
    {
     "name": "stdout",
     "output_type": "stream",
     "text": [
      "Null values in limite_inferior_ip: 0\n",
      "Null values in limite_superior_ip: 0\n",
      "Null values in pais: 0\n"
     ]
    }
   ],
   "source": [
    "# checking for null values for the IP dataset\n",
    "for col in ISP_df.columns:\n",
    "    print('Null values in {}: {}'.format(col, ISP_df[col].isnull().sum()))"
   ]
  },
  {
   "cell_type": "code",
   "execution_count": 11,
   "metadata": {
    "ExecuteTime": {
     "end_time": "2020-08-14T07:55:59.687181Z",
     "start_time": "2020-08-14T07:55:59.665239Z"
    },
    "scrolled": true
   },
   "outputs": [
    {
     "data": {
      "text/html": [
       "<div>\n",
       "<style scoped>\n",
       "    .dataframe tbody tr th:only-of-type {\n",
       "        vertical-align: middle;\n",
       "    }\n",
       "\n",
       "    .dataframe tbody tr th {\n",
       "        vertical-align: top;\n",
       "    }\n",
       "\n",
       "    .dataframe thead th {\n",
       "        text-align: right;\n",
       "    }\n",
       "</style>\n",
       "<table border=\"1\" class=\"dataframe\">\n",
       "  <thead>\n",
       "    <tr style=\"text-align: right;\">\n",
       "      <th></th>\n",
       "      <th>limite_inferior_ip</th>\n",
       "      <th>limite_superior_ip</th>\n",
       "    </tr>\n",
       "  </thead>\n",
       "  <tbody>\n",
       "    <tr>\n",
       "      <th>count</th>\n",
       "      <td>1.388460e+05</td>\n",
       "      <td>1.388460e+05</td>\n",
       "    </tr>\n",
       "    <tr>\n",
       "      <th>mean</th>\n",
       "      <td>2.724532e+09</td>\n",
       "      <td>2.724557e+09</td>\n",
       "    </tr>\n",
       "    <tr>\n",
       "      <th>std</th>\n",
       "      <td>8.975215e+08</td>\n",
       "      <td>8.974979e+08</td>\n",
       "    </tr>\n",
       "    <tr>\n",
       "      <th>min</th>\n",
       "      <td>1.677722e+07</td>\n",
       "      <td>1.677747e+07</td>\n",
       "    </tr>\n",
       "    <tr>\n",
       "      <th>25%</th>\n",
       "      <td>1.919930e+09</td>\n",
       "      <td>1.920008e+09</td>\n",
       "    </tr>\n",
       "    <tr>\n",
       "      <th>50%</th>\n",
       "      <td>3.230887e+09</td>\n",
       "      <td>3.230888e+09</td>\n",
       "    </tr>\n",
       "    <tr>\n",
       "      <th>75%</th>\n",
       "      <td>3.350465e+09</td>\n",
       "      <td>3.350466e+09</td>\n",
       "    </tr>\n",
       "    <tr>\n",
       "      <th>max</th>\n",
       "      <td>3.758096e+09</td>\n",
       "      <td>3.758096e+09</td>\n",
       "    </tr>\n",
       "  </tbody>\n",
       "</table>\n",
       "</div>"
      ],
      "text/plain": [
       "       limite_inferior_ip  limite_superior_ip\n",
       "count        1.388460e+05        1.388460e+05\n",
       "mean         2.724532e+09        2.724557e+09\n",
       "std          8.975215e+08        8.974979e+08\n",
       "min          1.677722e+07        1.677747e+07\n",
       "25%          1.919930e+09        1.920008e+09\n",
       "50%          3.230887e+09        3.230888e+09\n",
       "75%          3.350465e+09        3.350466e+09\n",
       "max          3.758096e+09        3.758096e+09"
      ]
     },
     "execution_count": 11,
     "metadata": {},
     "output_type": "execute_result"
    }
   ],
   "source": [
    "# describing the fraud dataset for the IP dataset\n",
    "ISP_df.describe()"
   ]
  },
  {
   "cell_type": "code",
   "execution_count": 12,
   "metadata": {
    "ExecuteTime": {
     "end_time": "2020-08-14T07:55:59.701143Z",
     "start_time": "2020-08-14T07:55:59.688177Z"
    }
   },
   "outputs": [
    {
     "data": {
      "text/html": [
       "<div>\n",
       "<style scoped>\n",
       "    .dataframe tbody tr th:only-of-type {\n",
       "        vertical-align: middle;\n",
       "    }\n",
       "\n",
       "    .dataframe tbody tr th {\n",
       "        vertical-align: top;\n",
       "    }\n",
       "\n",
       "    .dataframe thead th {\n",
       "        text-align: right;\n",
       "    }\n",
       "</style>\n",
       "<table border=\"1\" class=\"dataframe\">\n",
       "  <thead>\n",
       "    <tr style=\"text-align: right;\">\n",
       "      <th></th>\n",
       "      <th>limite_inferior_ip</th>\n",
       "      <th>limite_superior_ip</th>\n",
       "      <th>pais</th>\n",
       "    </tr>\n",
       "  </thead>\n",
       "  <tbody>\n",
       "    <tr>\n",
       "      <th>138845</th>\n",
       "      <td>3.758096e+09</td>\n",
       "      <td>3.758096e+09</td>\n",
       "      <td>Australia</td>\n",
       "    </tr>\n",
       "  </tbody>\n",
       "</table>\n",
       "</div>"
      ],
      "text/plain": [
       "        limite_inferior_ip  limite_superior_ip       pais\n",
       "138845        3.758096e+09        3.758096e+09  Australia"
      ]
     },
     "metadata": {},
     "output_type": "display_data"
    },
    {
     "data": {
      "text/html": [
       "<div>\n",
       "<style scoped>\n",
       "    .dataframe tbody tr th:only-of-type {\n",
       "        vertical-align: middle;\n",
       "    }\n",
       "\n",
       "    .dataframe tbody tr th {\n",
       "        vertical-align: top;\n",
       "    }\n",
       "\n",
       "    .dataframe thead th {\n",
       "        text-align: right;\n",
       "    }\n",
       "</style>\n",
       "<table border=\"1\" class=\"dataframe\">\n",
       "  <thead>\n",
       "    <tr style=\"text-align: right;\">\n",
       "      <th></th>\n",
       "      <th>limite_inferior_ip</th>\n",
       "      <th>limite_superior_ip</th>\n",
       "      <th>pais</th>\n",
       "    </tr>\n",
       "  </thead>\n",
       "  <tbody>\n",
       "    <tr>\n",
       "      <th>138845</th>\n",
       "      <td>3.758096e+09</td>\n",
       "      <td>3.758096e+09</td>\n",
       "      <td>Australia</td>\n",
       "    </tr>\n",
       "  </tbody>\n",
       "</table>\n",
       "</div>"
      ],
      "text/plain": [
       "        limite_inferior_ip  limite_superior_ip       pais\n",
       "138845        3.758096e+09        3.758096e+09  Australia"
      ]
     },
     "metadata": {},
     "output_type": "display_data"
    }
   ],
   "source": [
    "# strange value at 75% percentile for the lower limit,\n",
    "# checking whether it is merely a display issue\n",
    "\n",
    "display(ISP_df[ISP_df.limite_inferior_ip == ISP_df.limite_inferior_ip.max()])\n",
    "display(ISP_df[ISP_df.limite_superior_ip == ISP_df.limite_superior_ip.max()])"
   ]
  },
  {
   "cell_type": "code",
   "execution_count": 13,
   "metadata": {
    "ExecuteTime": {
     "end_time": "2020-08-14T07:58:00.927504Z",
     "start_time": "2020-08-14T07:55:59.702140Z"
    }
   },
   "outputs": [
    {
     "data": {
      "text/html": [
       "<div>\n",
       "<style scoped>\n",
       "    .dataframe tbody tr th:only-of-type {\n",
       "        vertical-align: middle;\n",
       "    }\n",
       "\n",
       "    .dataframe tbody tr th {\n",
       "        vertical-align: top;\n",
       "    }\n",
       "\n",
       "    .dataframe thead th {\n",
       "        text-align: right;\n",
       "    }\n",
       "</style>\n",
       "<table border=\"1\" class=\"dataframe\">\n",
       "  <thead>\n",
       "    <tr style=\"text-align: right;\">\n",
       "      <th></th>\n",
       "      <th>id</th>\n",
       "      <th>cadastro</th>\n",
       "      <th>compra</th>\n",
       "      <th>valor</th>\n",
       "      <th>id_dispositivo</th>\n",
       "      <th>fonte</th>\n",
       "      <th>browser</th>\n",
       "      <th>genero</th>\n",
       "      <th>idade</th>\n",
       "      <th>ip</th>\n",
       "      <th>fraude</th>\n",
       "      <th>pais</th>\n",
       "    </tr>\n",
       "  </thead>\n",
       "  <tbody>\n",
       "    <tr>\n",
       "      <th>0</th>\n",
       "      <td>22058</td>\n",
       "      <td>2015-02-24 22:55:49</td>\n",
       "      <td>2015-04-18 02:47:11</td>\n",
       "      <td>34</td>\n",
       "      <td>QVPSPJUOCKZAR</td>\n",
       "      <td>SEO</td>\n",
       "      <td>Chrome</td>\n",
       "      <td>M</td>\n",
       "      <td>39</td>\n",
       "      <td>7.327584e+08</td>\n",
       "      <td>0</td>\n",
       "      <td>Japan</td>\n",
       "    </tr>\n",
       "    <tr>\n",
       "      <th>1</th>\n",
       "      <td>333320</td>\n",
       "      <td>2015-06-07 20:39:50</td>\n",
       "      <td>2015-06-08 01:38:54</td>\n",
       "      <td>16</td>\n",
       "      <td>EOGFQPIZPYXFZ</td>\n",
       "      <td>Ads</td>\n",
       "      <td>Chrome</td>\n",
       "      <td>F</td>\n",
       "      <td>53</td>\n",
       "      <td>3.503114e+08</td>\n",
       "      <td>0</td>\n",
       "      <td>United States</td>\n",
       "    </tr>\n",
       "    <tr>\n",
       "      <th>2</th>\n",
       "      <td>1359</td>\n",
       "      <td>2015-01-01 18:52:44</td>\n",
       "      <td>2015-01-01 18:52:45</td>\n",
       "      <td>15</td>\n",
       "      <td>YSSKYOSJHPPLJ</td>\n",
       "      <td>SEO</td>\n",
       "      <td>Opera</td>\n",
       "      <td>M</td>\n",
       "      <td>53</td>\n",
       "      <td>2.621474e+09</td>\n",
       "      <td>1</td>\n",
       "      <td>United States</td>\n",
       "    </tr>\n",
       "    <tr>\n",
       "      <th>3</th>\n",
       "      <td>150084</td>\n",
       "      <td>2015-04-28 21:13:25</td>\n",
       "      <td>2015-05-04 13:54:50</td>\n",
       "      <td>44</td>\n",
       "      <td>ATGTXKYKUDUQN</td>\n",
       "      <td>SEO</td>\n",
       "      <td>Safari</td>\n",
       "      <td>M</td>\n",
       "      <td>41</td>\n",
       "      <td>3.840542e+09</td>\n",
       "      <td>0</td>\n",
       "      <td>None</td>\n",
       "    </tr>\n",
       "    <tr>\n",
       "      <th>4</th>\n",
       "      <td>221365</td>\n",
       "      <td>2015-07-21 07:09:52</td>\n",
       "      <td>2015-09-09 18:40:53</td>\n",
       "      <td>39</td>\n",
       "      <td>NAUITBZFJKHWW</td>\n",
       "      <td>Ads</td>\n",
       "      <td>Safari</td>\n",
       "      <td>M</td>\n",
       "      <td>45</td>\n",
       "      <td>4.155831e+08</td>\n",
       "      <td>0</td>\n",
       "      <td>United States</td>\n",
       "    </tr>\n",
       "  </tbody>\n",
       "</table>\n",
       "</div>"
      ],
      "text/plain": [
       "       id             cadastro               compra  valor id_dispositivo  \\\n",
       "0   22058  2015-02-24 22:55:49  2015-04-18 02:47:11     34  QVPSPJUOCKZAR   \n",
       "1  333320  2015-06-07 20:39:50  2015-06-08 01:38:54     16  EOGFQPIZPYXFZ   \n",
       "2    1359  2015-01-01 18:52:44  2015-01-01 18:52:45     15  YSSKYOSJHPPLJ   \n",
       "3  150084  2015-04-28 21:13:25  2015-05-04 13:54:50     44  ATGTXKYKUDUQN   \n",
       "4  221365  2015-07-21 07:09:52  2015-09-09 18:40:53     39  NAUITBZFJKHWW   \n",
       "\n",
       "  fonte browser genero  idade            ip  fraude           pais  \n",
       "0   SEO  Chrome      M     39  7.327584e+08       0          Japan  \n",
       "1   Ads  Chrome      F     53  3.503114e+08       0  United States  \n",
       "2   SEO   Opera      M     53  2.621474e+09       1  United States  \n",
       "3   SEO  Safari      M     41  3.840542e+09       0           None  \n",
       "4   Ads  Safari      M     45  4.155831e+08       0  United States  "
      ]
     },
     "execution_count": 13,
     "metadata": {},
     "output_type": "execute_result"
    }
   ],
   "source": [
    "# defining which country an IP belongs to\n",
    "def ip_to_country(ip):\n",
    "    tmp = ISP_df[(ISP_df.limite_inferior_ip <= ip)\n",
    "            & (ISP_df.limite_superior_ip >= ip)].pais\n",
    "    if tmp.shape[0] == 1:\n",
    "        return tmp.iloc[0]\n",
    "\n",
    "fraud_df[\"pais\"] = fraud_df.ip.apply(ip_to_country)\n",
    "fraud_df.head()"
   ]
  },
  {
   "cell_type": "code",
   "execution_count": 14,
   "metadata": {
    "ExecuteTime": {
     "end_time": "2020-08-14T07:58:01.678832Z",
     "start_time": "2020-08-14T07:58:00.928501Z"
    }
   },
   "outputs": [],
   "source": [
    "fraud_df.to_csv(\"fraud_data_country.csv\", index=False)"
   ]
  },
  {
   "cell_type": "markdown",
   "metadata": {},
   "source": [
    "***\n",
    "\n",
    "## 2. Exploratory Data Analysis"
   ]
  },
  {
   "cell_type": "code",
   "execution_count": 15,
   "metadata": {
    "ExecuteTime": {
     "end_time": "2020-08-14T07:58:06.421913Z",
     "start_time": "2020-08-14T07:58:01.678832Z"
    }
   },
   "outputs": [
    {
     "name": "stderr",
     "output_type": "stream",
     "text": [
      "D:\\Anaconda\\lib\\site-packages\\statsmodels\\tools\\_testing.py:19: FutureWarning: pandas.util.testing is deprecated. Use the functions in the public API at pandas.testing instead.\n",
      "  import pandas.util.testing as tm\n"
     ]
    }
   ],
   "source": [
    "# importing necessary libraries\n",
    "\n",
    "import matplotlib.pyplot as plt\n",
    "import seaborn as sns\n",
    "%matplotlib inline"
   ]
  },
  {
   "cell_type": "code",
   "execution_count": 16,
   "metadata": {
    "ExecuteTime": {
     "end_time": "2020-08-14T07:58:06.802051Z",
     "start_time": "2020-08-14T07:58:06.421913Z"
    }
   },
   "outputs": [
    {
     "data": {
      "text/html": [
       "<div>\n",
       "<style scoped>\n",
       "    .dataframe tbody tr th:only-of-type {\n",
       "        vertical-align: middle;\n",
       "    }\n",
       "\n",
       "    .dataframe tbody tr th {\n",
       "        vertical-align: top;\n",
       "    }\n",
       "\n",
       "    .dataframe thead th {\n",
       "        text-align: right;\n",
       "    }\n",
       "</style>\n",
       "<table border=\"1\" class=\"dataframe\">\n",
       "  <thead>\n",
       "    <tr style=\"text-align: right;\">\n",
       "      <th></th>\n",
       "      <th>id</th>\n",
       "      <th>cadastro</th>\n",
       "      <th>compra</th>\n",
       "      <th>valor</th>\n",
       "      <th>id_dispositivo</th>\n",
       "      <th>fonte</th>\n",
       "      <th>browser</th>\n",
       "      <th>genero</th>\n",
       "      <th>idade</th>\n",
       "      <th>ip</th>\n",
       "      <th>fraude</th>\n",
       "      <th>pais</th>\n",
       "    </tr>\n",
       "  </thead>\n",
       "  <tbody>\n",
       "    <tr>\n",
       "      <th>0</th>\n",
       "      <td>22058</td>\n",
       "      <td>2015-02-24 22:55:49</td>\n",
       "      <td>2015-04-18 02:47:11</td>\n",
       "      <td>34</td>\n",
       "      <td>QVPSPJUOCKZAR</td>\n",
       "      <td>SEO</td>\n",
       "      <td>Chrome</td>\n",
       "      <td>M</td>\n",
       "      <td>39</td>\n",
       "      <td>7.327584e+08</td>\n",
       "      <td>0</td>\n",
       "      <td>Japan</td>\n",
       "    </tr>\n",
       "    <tr>\n",
       "      <th>1</th>\n",
       "      <td>333320</td>\n",
       "      <td>2015-06-07 20:39:50</td>\n",
       "      <td>2015-06-08 01:38:54</td>\n",
       "      <td>16</td>\n",
       "      <td>EOGFQPIZPYXFZ</td>\n",
       "      <td>Ads</td>\n",
       "      <td>Chrome</td>\n",
       "      <td>F</td>\n",
       "      <td>53</td>\n",
       "      <td>3.503114e+08</td>\n",
       "      <td>0</td>\n",
       "      <td>United States</td>\n",
       "    </tr>\n",
       "    <tr>\n",
       "      <th>2</th>\n",
       "      <td>1359</td>\n",
       "      <td>2015-01-01 18:52:44</td>\n",
       "      <td>2015-01-01 18:52:45</td>\n",
       "      <td>15</td>\n",
       "      <td>YSSKYOSJHPPLJ</td>\n",
       "      <td>SEO</td>\n",
       "      <td>Opera</td>\n",
       "      <td>M</td>\n",
       "      <td>53</td>\n",
       "      <td>2.621474e+09</td>\n",
       "      <td>1</td>\n",
       "      <td>United States</td>\n",
       "    </tr>\n",
       "    <tr>\n",
       "      <th>3</th>\n",
       "      <td>150084</td>\n",
       "      <td>2015-04-28 21:13:25</td>\n",
       "      <td>2015-05-04 13:54:50</td>\n",
       "      <td>44</td>\n",
       "      <td>ATGTXKYKUDUQN</td>\n",
       "      <td>SEO</td>\n",
       "      <td>Safari</td>\n",
       "      <td>M</td>\n",
       "      <td>41</td>\n",
       "      <td>3.840542e+09</td>\n",
       "      <td>0</td>\n",
       "      <td>NaN</td>\n",
       "    </tr>\n",
       "    <tr>\n",
       "      <th>4</th>\n",
       "      <td>221365</td>\n",
       "      <td>2015-07-21 07:09:52</td>\n",
       "      <td>2015-09-09 18:40:53</td>\n",
       "      <td>39</td>\n",
       "      <td>NAUITBZFJKHWW</td>\n",
       "      <td>Ads</td>\n",
       "      <td>Safari</td>\n",
       "      <td>M</td>\n",
       "      <td>45</td>\n",
       "      <td>4.155831e+08</td>\n",
       "      <td>0</td>\n",
       "      <td>United States</td>\n",
       "    </tr>\n",
       "  </tbody>\n",
       "</table>\n",
       "</div>"
      ],
      "text/plain": [
       "       id             cadastro               compra  valor id_dispositivo  \\\n",
       "0   22058  2015-02-24 22:55:49  2015-04-18 02:47:11     34  QVPSPJUOCKZAR   \n",
       "1  333320  2015-06-07 20:39:50  2015-06-08 01:38:54     16  EOGFQPIZPYXFZ   \n",
       "2    1359  2015-01-01 18:52:44  2015-01-01 18:52:45     15  YSSKYOSJHPPLJ   \n",
       "3  150084  2015-04-28 21:13:25  2015-05-04 13:54:50     44  ATGTXKYKUDUQN   \n",
       "4  221365  2015-07-21 07:09:52  2015-09-09 18:40:53     39  NAUITBZFJKHWW   \n",
       "\n",
       "  fonte browser genero  idade            ip  fraude           pais  \n",
       "0   SEO  Chrome      M     39  7.327584e+08       0          Japan  \n",
       "1   Ads  Chrome      F     53  3.503114e+08       0  United States  \n",
       "2   SEO   Opera      M     53  2.621474e+09       1  United States  \n",
       "3   SEO  Safari      M     41  3.840542e+09       0            NaN  \n",
       "4   Ads  Safari      M     45  4.155831e+08       0  United States  "
      ]
     },
     "execution_count": 16,
     "metadata": {},
     "output_type": "execute_result"
    }
   ],
   "source": [
    "# recreating the fraud dataset with country data\n",
    "\n",
    "fraud_df = pd.read_csv(\"fraud_data_country.csv\", header=0)\n",
    "fraud_df.head()"
   ]
  },
  {
   "cell_type": "code",
   "execution_count": 17,
   "metadata": {
    "ExecuteTime": {
     "end_time": "2020-08-14T07:58:07.649809Z",
     "start_time": "2020-08-14T07:58:06.803050Z"
    },
    "scrolled": true
   },
   "outputs": [
    {
     "data": {
      "text/plain": [
       "Text(0, 0.5, 'Fraud cases')"
      ]
     },
     "execution_count": 17,
     "metadata": {},
     "output_type": "execute_result"
    },
    {
     "data": {
      "image/png": "[encoded data removed]",
      "text/plain": [
       "<Figure size 432x288 with 1 Axes>"
      ]
     },
     "metadata": {
      "needs_background": "light"
     },
     "output_type": "display_data"
    }
   ],
   "source": [
    "# creating a visualization of number of fraud cases by gender\n",
    "\n",
    "sns.countplot(x=\"genero\", hue=\"fraude\", data=fraud_df)\n",
    "plt.xlabel(\"Gender\", fontsize=15)\n",
    "plt.ylabel(\"Fraud cases\", fontsize=15)"
   ]
  },
  {
   "cell_type": "code",
   "execution_count": 18,
   "metadata": {
    "ExecuteTime": {
     "end_time": "2020-08-14T07:58:11.705951Z",
     "start_time": "2020-08-14T07:58:07.650806Z"
    }
   },
   "outputs": [
    {
     "name": "stderr",
     "output_type": "stream",
     "text": [
      "D:\\Anaconda\\lib\\site-packages\\seaborn\\categorical.py:3666: UserWarning: The `factorplot` function has been renamed to `catplot`. The original name will be removed in a future release. Please update your code. Note that the default `kind` in `factorplot` (`'point'`) has changed `'strip'` in `catplot`.\n",
      "  warnings.warn(msg)\n"
     ]
    },
    {
     "data": {
      "text/plain": [
       "Text(0.42499999999999716, 0.5, 'Purchase value')"
      ]
     },
     "execution_count": 18,
     "metadata": {},
     "output_type": "execute_result"
    },
    {
     "data": {
      "image/png": "[encoded data removed]",
      "text/plain": [
       "<Figure size 360x360 with 1 Axes>"
      ]
     },
     "metadata": {
      "needs_background": "light"
     },
     "output_type": "display_data"
    }
   ],
   "source": [
    "# plotting fraud cases by value\n",
    "sns.factorplot(x=\"fraude\", y=\"valor\", data=fraud_df)\n",
    "plt.xlabel(\" 0: not fraud / 1: fraud \")\n",
    "plt.ylabel(\"Purchase value\", fontsize=15)"
   ]
  },
  {
   "cell_type": "code",
   "execution_count": 19,
   "metadata": {
    "ExecuteTime": {
     "end_time": "2020-08-14T07:58:15.381473Z",
     "start_time": "2020-08-14T07:58:11.706949Z"
    },
    "scrolled": true
   },
   "outputs": [
    {
     "data": {
      "text/plain": [
       "Text(-5.825000000000003, 0.5, \"User's age\")"
      ]
     },
     "execution_count": 19,
     "metadata": {},
     "output_type": "execute_result"
    },
    {
     "data": {
      "image/png": "[encoded data removed]",
      "text/plain": [
       "<Figure size 360x360 with 1 Axes>"
      ]
     },
     "metadata": {
      "needs_background": "light"
     },
     "output_type": "display_data"
    }
   ],
   "source": [
    "# reproducing the plot for user age\n",
    "\n",
    "sns.factorplot(x=\"fraude\",y=\"idade\",data=fraud_df)\n",
    "plt.xlabel(\"0: not fraud / 1: fraud\")\n",
    "plt.ylabel(\"User's age\", fontsize=15)"
   ]
  },
  {
   "cell_type": "code",
   "execution_count": 20,
   "metadata": {
    "ExecuteTime": {
     "end_time": "2020-08-14T07:58:15.512123Z",
     "start_time": "2020-08-14T07:58:15.382470Z"
    },
    "scrolled": true
   },
   "outputs": [
    {
     "data": {
      "text/plain": [
       "Text(0, 0.5, 'Fraudulent cases')"
      ]
     },
     "execution_count": 20,
     "metadata": {},
     "output_type": "execute_result"
    },
    {
     "data": {
      "image/png": "[encoded data removed]",
      "text/plain": [
       "<Figure size 432x288 with 1 Axes>"
      ]
     },
     "metadata": {
      "needs_background": "light"
     },
     "output_type": "display_data"
    }
   ],
   "source": [
    "# plotting fraud by traffic source\n",
    "\n",
    "sns.countplot(x=\"fonte\",hue=\"fraude\",data=fraud_df)\n",
    "plt.xlabel(\"Traffic source\")\n",
    "plt.ylabel(\"Fraudulent cases\", fontsize=15)"
   ]
  },
  {
   "cell_type": "code",
   "execution_count": 21,
   "metadata": {
    "ExecuteTime": {
     "end_time": "2020-08-14T07:58:15.594902Z",
     "start_time": "2020-08-14T07:58:15.513121Z"
    }
   },
   "outputs": [],
   "source": [
    "# grouping fraudulent purchases by country\n",
    "\n",
    "fraud_sum = fraud_df[fraud_df['fraude'] == 1][\"fraude\"].groupby(fraud_df.pais).sum()\n",
    "fraud_sum = fraud_sum.to_frame().reset_index()\n",
    "\n",
    "not_fraud_sum = fraud_df[fraud_df[\"fraude\"] == 0][\"fraude\"].groupby(fraud_df.pais).sum()\n",
    "not_fraud_sum = not_fraud_sum.to_frame().reset_index()"
   ]
  },
  {
   "cell_type": "code",
   "execution_count": 22,
   "metadata": {
    "ExecuteTime": {
     "end_time": "2020-08-14T07:58:16.899669Z",
     "start_time": "2020-08-14T07:58:15.595899Z"
    }
   },
   "outputs": [
    {
     "data": {
      "text/plain": [
       "Text(0, 0.5, 'Countries')"
      ]
     },
     "execution_count": 22,
     "metadata": {},
     "output_type": "execute_result"
    },
    {
     "data": {
      "image/png": "[encoded data removed]",
      "text/plain": [
       "<Figure size 1440x1800 with 1 Axes>"
      ]
     },
     "metadata": {
      "needs_background": "light"
     },
     "output_type": "display_data"
    }
   ],
   "source": [
    "# plotting the fraud results\n",
    "\n",
    "f, ax = plt.subplots(figsize=(20,25))\n",
    "sns.set_color_codes(\"muted\")\n",
    "sns.barplot(x=\"fraude\", y=\"pais\", data=fraud_sum, label=\"Total\", color=\"b\")\n",
    "plt.xlabel(\"Fraud count\", fontsize=15)\n",
    "plt.ylabel(\"Countries\", fontsize=15)"
   ]
  },
  {
   "cell_type": "code",
   "execution_count": 23,
   "metadata": {
    "ExecuteTime": {
     "end_time": "2020-08-14T07:58:20.220726Z",
     "start_time": "2020-08-14T07:58:16.900667Z"
    }
   },
   "outputs": [],
   "source": [
    "# grouping data in a new dataframe\n",
    "\n",
    "temp_df = pd.DataFrame(columns=(\"fraud\",\"id_by_device\",\"id_by_ip\"))\n",
    "temp_df[\"fraude\"] = fraud_df[\"fraude\"]\n",
    "\n",
    "userid_device = fraud_df.groupby(\"id_dispositivo\").id.count()\n",
    "temp_df[\"id_by_device\"] = fraud_df.id_dispositivo.apply(lambda x: userid_device[x])\n",
    "\n",
    "userid_ip = fraud_df.groupby(\"ip\").id.count()\n",
    "temp_df[\"id_by_ip\"] = fraud_df.ip.apply(lambda x: userid_ip[x])"
   ]
  }
 ],
 "metadata": {
  "kernelspec": {
   "display_name": "Python 3.7.6 64-bit ('base': conda)",
   "language": "python",
   "name": "python37664bitbasecondafa793547d4184c1c8495eab5181f4ddb"
  },
  "language_info": {
   "codemirror_mode": {
    "name": "ipython",
    "version": 3
   },
   "file_extension": ".py",
   "mimetype": "text/x-python",
   "name": "python",
   "nbconvert_exporter": "python",
   "pygments_lexer": "ipython3",
   "version": "3.7.6"
  },
  "varInspector": {
   "cols": {
    "lenName": 16,
    "lenType": 16,
    "lenVar": 40
   },
   "kernels_config": {
    "python": {
     "delete_cmd_postfix": "",
     "delete_cmd_prefix": "del ",
     "library": "var_list.py",
     "varRefreshCmd": "print(var_dic_list())"
    },
    "r": {
     "delete_cmd_postfix": ") ",
     "delete_cmd_prefix": "rm(",
     "library": "var_list.r",
     "varRefreshCmd": "cat(var_dic_list()) "
    }
   },
   "types_to_exclude": [
    "module",
    "function",
    "builtin_function_or_method",
    "instance",
    "_Feature"
   ],
   "window_display": false
  }
 },
 "nbformat": 4,
 "nbformat_minor": 2
}
